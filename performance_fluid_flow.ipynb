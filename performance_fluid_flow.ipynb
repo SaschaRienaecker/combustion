{
 "cells": [
  {
   "cell_type": "code",
   "execution_count": 109,
   "metadata": {},
   "outputs": [],
   "source": [
    "%matplotlib widget\n",
    "import matplotlib.pyplot as plt\n",
    "import numpy as np \n",
    "\n",
    "%reload_ext autoreload\n",
    "%aimport Funcs\n",
    "%aimport fluid_flow\n",
    "%aimport parameters\n",
    "%aimport visualization\n",
    "from Funcs import advance_adv_diff_RK3, advance_adv_diff_RK4\n",
    "from fluid_flow import advance_fluid_flow, set_boundary, dt_fluid_flow\n",
    "from Funcs import metric_L0, metric_RMS\n",
    "from parameters import * # <-- dangerous; make sure to put only global constants in that file"
   ]
  },
  {
   "cell_type": "code",
   "execution_count": 195,
   "metadata": {},
   "outputs": [],
   "source": [
    "from math import sin, pi, exp\n",
    "from poisson_solver import get_atol\n",
    "import time\n",
    "\n",
    "N=50\n",
    "dx, dy, Ns_c, Nc_lw = parameters.set_resolution(N,N)\n",
    "dt = dt_fluid_flow(dx, Fo=0.3)\n",
    "\n",
    "# total simulation time\n",
    "t = 0.025\n",
    "\n",
    "# number of convergence measurements\n",
    "N_loop = 100\n",
    "\n",
    "# time in [s] between two measurements\n",
    "dt_measure = t / N_loop\n",
    "\n",
    "# number of iterations between 2 convergence measurements\n",
    "Nt = int(np.round(dt_measure / dt))\n",
    "\n",
    "Nt0=1\n",
    "\n",
    "    \n",
    "def perfo_analysis(amax=1e-4, amin=1e-8, tmax=0.01):\n",
    "    \n",
    "    # initial setup of velocity field\n",
    "    u0 = np.zeros((N,N))\n",
    "    v0 = np.copy(u0)\n",
    "    u0,v0 = set_boundary(u0,v0,Ns_c, Nc_lw)\n",
    "    u, v = np.copy(u0), np.copy(v0)\n",
    "\n",
    "    # w parameter for the Poisson solver:\n",
    "    w = 2 / (1 + sin(pi/N))\n",
    "\n",
    "    # placeholders for the respective metrics\n",
    "    L0 = np.zeros((2,N_loop))\n",
    "    L2 = np.zeros_like(L0)\n",
    "\n",
    "    n_conv_check = 1\n",
    "\n",
    "    # initial warm-up:\n",
    "    u, v, P,_, NSOR = advance_fluid_flow(Nt0, u, v, advance_adv_diff_RK3, dt, diag=True)\n",
    "\n",
    "    t0 = time.time()\n",
    "\n",
    "    NNSOR = np.zeros((N_loop, Nt))\n",
    "\n",
    "    # convergence analysis:\n",
    "    for i in range(N_loop):\n",
    "\n",
    "        _t = i * dt * Nt + dt * Nt0 # current phyiscal time in [s]\n",
    "        atol = get_atol(_t, amin, amax, tmax)\n",
    "\n",
    "        u_old, v_old = np.copy(u), np.copy(v)\n",
    "        u, v, P,_,NSOR = advance_fluid_flow(Nt, u, v, advance_adv_diff_RK3, dt, w=w, atol=atol, P=P, n_conv_check=n_conv_check, diag=True)\n",
    "\n",
    "        NNSOR[i] = NSOR\n",
    "        # measurements:\n",
    "        L0[0,i] = metric_L0(u_old, u)\n",
    "        L0[1,i] = metric_L0(v_old, v) \n",
    "\n",
    "        L2[0,i] = metric_RMS(u_old, u)\n",
    "        L2[1,i] = metric_RMS(v_old, v)\n",
    "    print('CPU time [s]: ', time.time() - t0)\n",
    "    \n",
    "    T = np.arange(N_loop) * dt * Nt + dt * Nt0\n",
    "    \n",
    "    results = [L0, L2, NNSOR, T]\n",
    "    return results"
   ]
  },
  {
   "cell_type": "code",
   "execution_count": 254,
   "metadata": {},
   "outputs": [],
   "source": []
  },
  {
   "cell_type": "code",
   "execution_count": 255,
   "metadata": {},
   "outputs": [
    {
     "data": {
      "text/plain": [
       "(8, 100, 800, 750.3125000000001)"
      ]
     },
     "execution_count": 255,
     "metadata": {},
     "output_type": "execute_result"
    }
   ],
   "source": [
    "Nt, N_loop, Nt * N_loop, t/dt"
   ]
  },
  {
   "cell_type": "code",
   "execution_count": 256,
   "metadata": {},
   "outputs": [
    {
     "name": "stdout",
     "output_type": "stream",
     "text": [
      "CPU time [s]:  4.340038776397705\n",
      "CPU time [s]:  0.9183001518249512\n"
     ]
    }
   ],
   "source": [
    "Results = []\n",
    "Results.append(perfo_analysis(amax=1e-8))\n",
    "\n",
    "Results.append(perfo_analysis())"
   ]
  },
  {
   "cell_type": "code",
   "execution_count": 264,
   "metadata": {},
   "outputs": [
    {
     "data": {
      "application/vnd.jupyter.widget-view+json": {
       "model_id": "53f940ea05f1492e80176049c994814d",
       "version_major": 2,
       "version_minor": 0
      },
      "text/html": [
       "\n",
       "            <div style=\"display: inline-block;\">\n",
       "                <div class=\"jupyter-widgets widget-label\" style=\"text-align: center;\">\n",
       "                    Figure\n",
       "                </div>\n",
       "                <img src='data:image/png;base64,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' width=438.7401826484018/>\n",
       "            </div>\n",
       "        "
      ],
      "text/plain": [
       "Canvas(toolbar=Toolbar(toolitems=[('Home', 'Reset original view', 'home', 'home'), ('Back', 'Back to previous …"
      ]
     },
     "metadata": {},
     "output_type": "display_data"
    }
   ],
   "source": [
    "%autoreload 1\n",
    "from visualization import plot_station_analysis\n",
    "\n",
    "from plotting import set_size\n",
    "plt.style.use('tex.mplstyle')\n",
    "figsize = set_size(fraction=.7, aspect_r=0.4)\n",
    "\n",
    "fig, axs = plt.subplots(1,2,sharex=True,sharey=True, figsize=figsize)\n",
    "\n",
    "colors = ['blue', 'red']\n",
    "labels = ['fixed $a_\\mathrm{tol}$', '$a_\\mathrm{tol}$ ramped down']\n",
    "\n",
    "for i in range(2):\n",
    "    \n",
    "    L0, L2, NNSOR, T = Results[i]\n",
    "    ydat = np.sum(NNSOR, axis=1) / Nt\n",
    "    ax = axs[i]\n",
    "    l2, = axs[i].plot(T * 1e3, ydat,'o-', color=colors[i])\n",
    "    ax2 = axs[i].twinx()\n",
    "    amax = 1e-8 if i==0 else 1e-4\n",
    "    l, = ax2.plot(T * 1e3, get_atol(T, amin, amax, tmax),ls='--', color='green', label='$a_\\mathrm{tol}$')\n",
    "    ax2.tick_params(axis='y', colors=l.get_color()) \n",
    "    ax2.set_ylim(1e-9, 1e-3)\n",
    "    ax2.set_yscale('log')\n",
    "    if i==0:\n",
    "        ax2.yaxis.set_ticklabels([])\n",
    "        ax2.legend(loc='center right')\n",
    "    ax.text(0.95, 0.95, '$\\Sigma = {:.2g}$'.format(ydat.sum()), transform=ax.transAxes, horizontalalignment='right', verticalalignment='top')\n",
    "    ax.set_xlabel('$t$ [ms]')\n",
    "    ax.set_title(labels[i])\n",
    "#ax2.set_ylabel('$a_\\mathrm{tol}$')\n",
    "plt.tight_layout()\n",
    "fig.suptitle('Number of iterations $N_\\mathrm{SOR}$ per time step')\n",
    "axs[0].set_ylabel('$N_\\mathrm{SOR}$')\n",
    "\n",
    "#axs[0].yaxis.label.set_color(l2.get_color())\n",
    "\n",
    "plt.tight_layout()"
   ]
  },
  {
   "cell_type": "code",
   "execution_count": 265,
   "metadata": {},
   "outputs": [],
   "source": [
    "fig.savefig('figures/perfo_atol_explained.svg')"
   ]
  },
  {
   "cell_type": "code",
   "execution_count": 271,
   "metadata": {},
   "outputs": [
    {
     "data": {
      "application/vnd.jupyter.widget-view+json": {
       "model_id": "da240000ba764acead55831e3dc4d48c",
       "version_major": 2,
       "version_minor": 0
      },
      "text/html": [
       "\n",
       "            <div style=\"display: inline-block;\">\n",
       "                <div class=\"jupyter-widgets widget-label\" style=\"text-align: center;\">\n",
       "                    Figure\n",
       "                </div>\n",
       "                <img src='data:image/png;base64,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' width=231.90552511415524/>\n",
       "            </div>\n",
       "        "
      ],
      "text/plain": [
       "Canvas(toolbar=Toolbar(toolitems=[('Home', 'Reset original view', 'home', 'home'), ('Back', 'Back to previous …"
      ]
     },
     "metadata": {},
     "output_type": "display_data"
    }
   ],
   "source": [
    "%autoreload 1\n",
    "from visualization import plot_station_analysis\n",
    "figsize = set_size(fraction=.37, aspect_r=0.3)\n",
    "fig, ax = plt.subplots(figsize=figsize)\n",
    "\n",
    "for i in range(2):\n",
    "    L0, L2, NNSOR, T = Results[i]\n",
    "    ax.plot(T * 1e3, L0[0], color=colors[i], label=labels[i])\n",
    "    ax.set_yscale('log')\n",
    "    #ax.plot(T * 1e3, get_atol(T, amin, amax, tmax), label='$a_\\mathrm{tol}$')\n",
    "    #plot_station_analysis(L0, L2, Nt, Nt0, N_loop, dt, dt_measure, fluid=True, axs=axs)\n",
    "    s = r'$\\Delta \\hat{u} = \\frac{ max ( |u_n -  u_{n+1}| ) }{ max |u_n| }$'\n",
    "    ax.set_ylabel(r'$\\Delta \\hat{u}$')\n",
    "    ax.text(0.95, 0.95, s, verticalalignment='top', horizontalalignment='right', transform=ax.transAxes)\n",
    "#ax.legend(loc='center right', handlelength=0.5)\n",
    "ax.set_xlabel('$t$ [ms]')\n",
    "#.legend(loc='center right', handlelength=0.5, ncol=2, columnspacing=0.4)\n",
    "plt.tight_layout()\n"
   ]
  },
  {
   "cell_type": "code",
   "execution_count": 273,
   "metadata": {},
   "outputs": [],
   "source": [
    "fig.savefig('figures/perfo_atol_relative_change.svg')"
   ]
  },
  {
   "cell_type": "code",
   "execution_count": 214,
   "metadata": {},
   "outputs": [
    {
     "data": {
      "text/plain": [
       "(1472.75, 889.875)"
      ]
     },
     "execution_count": 214,
     "metadata": {},
     "output_type": "execute_result"
    }
   ],
   "source": [
    "ydat[0], ydat[1]"
   ]
  },
  {
   "cell_type": "code",
   "execution_count": 215,
   "metadata": {},
   "outputs": [
    {
     "data": {
      "text/plain": [
       "(1472.75, 0.0768012306970256, 19176.125)"
      ]
     },
     "execution_count": 215,
     "metadata": {},
     "output_type": "execute_result"
    }
   ],
   "source": [
    "ydat.max(), ydat.max() / ydat.sum(), ydat.sum()"
   ]
  },
  {
   "cell_type": "code",
   "execution_count": 149,
   "metadata": {},
   "outputs": [
    {
     "data": {
      "application/vnd.jupyter.widget-view+json": {
       "model_id": "083cbbd6d19f48a5abf1d6d84a35e05c",
       "version_major": 2,
       "version_minor": 0
      },
      "text/html": [
       "\n",
       "            <div style=\"display: inline-block;\">\n",
       "                <div class=\"jupyter-widgets widget-label\" style=\"text-align: center;\">\n",
       "                    Figure\n",
       "                </div>\n",
       "                <img src='data:image/png;base64,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' width=438.7401826484018/>\n",
       "            </div>\n",
       "        "
      ],
      "text/plain": [
       "Canvas(toolbar=Toolbar(toolitems=[('Home', 'Reset original view', 'home', 'home'), ('Back', 'Back to previous …"
      ]
     },
     "metadata": {},
     "output_type": "display_data"
    }
   ],
   "source": [
    "%autoreload 1\n",
    "from visualization import plot_station_analysis\n",
    "\n",
    "from plotting import set_size\n",
    "#plt.style.use('tex.mplstyle')\n",
    "figsize = set_size(fraction=.7, aspect_r=0.4)\n",
    "fig, axs = plt.subplots(1,2,sharex=True, sharey=True, figsize=figsize)\n",
    "plot_station_analysis(L0, L2, Nt, Nt0, N_loop, dt, dt_measure, fluid=True, axs=axs)\n",
    "\n",
    "# display variation of atol:\n",
    "T = np.arange(N_loop) * dt * Nt + dt * Nt0\n",
    "for ax in axs:\n",
    "    ax.plot(T * 1e3, get_atol(T, amin, amax, tmax), label='$a_\\mathrm{tol}$')\n",
    "axs[0].legend(loc='center right', handlelength=0.5, ncol=2, columnspacing=0.4)\n",
    "plt.tight_layout()\n",
    "\n",
    "if False:\n",
    "    fig.savefig('figures/fluif_flow_station.svg')\n",
    "    plt.style.use('default')"
   ]
  },
  {
   "cell_type": "code",
   "execution_count": null,
   "metadata": {},
   "outputs": [],
   "source": []
  }
 ],
 "metadata": {
  "kernelspec": {
   "display_name": "Python 3",
   "language": "python",
   "name": "python3"
  },
  "language_info": {
   "codemirror_mode": {
    "name": "ipython",
    "version": 3
   },
   "file_extension": ".py",
   "mimetype": "text/x-python",
   "name": "python",
   "nbconvert_exporter": "python",
   "pygments_lexer": "ipython3",
   "version": "3.8.10"
  }
 },
 "nbformat": 4,
 "nbformat_minor": 4
}
