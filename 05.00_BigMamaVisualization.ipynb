{
 "cells": [
  {
   "cell_type": "code",
   "execution_count": 2,
   "metadata": {},
   "outputs": [
    {
     "data": {
      "text/plain": [
       "3.331945022907122e-05"
      ]
     },
     "execution_count": 2,
     "metadata": {},
     "output_type": "execute_result"
    }
   ],
   "source": [
    "%matplotlib widget\n",
    "import matplotlib.pyplot as plt\n",
    "import numpy as np \n",
    "\n",
    "%reload_ext autoreload\n",
    "%aimport Funcs\n",
    "%aimport fluid_flow\n",
    "%aimport parameters\n",
    "from Funcs import advance_adv_diff_RK3, advance_adv_diff_RK4\n",
    "from fluid_flow import advance_fluid_flow, set_boundary, dt_fluid_flow\n",
    "from pathlib import Path\n",
    "from parameters import * # <-- dangerous; make sure to put only global constants in that file\n",
    "N = 50\n",
    "dx, dy, Ns_c, Nc_lw = parameters.set_resolution(N,N)\n",
    "dt = dt_fluid_flow(dx, Fo=0.3)\n",
    "dt"
   ]
  },
  {
   "cell_type": "code",
   "execution_count": 3,
   "metadata": {},
   "outputs": [
    {
     "name": "stdout",
     "output_type": "stream",
     "text": [
      "CPU time [s]:  14.309322357177734\n"
     ]
    }
   ],
   "source": [
    "from Funcs import metric_L0, metric_RMS\n",
    "from math import sin, pi, exp\n",
    "from poisson_solver import get_atol\n",
    "import time\n",
    "dt = dt_fluid_flow(dx, Fo=0.3)\n",
    "u0 = np.zeros((N,N))\n",
    "v0 = np.copy(u0)\n",
    "u0,v0 = set_boundary(u0,v0,Ns_c, Nc_lw)\n",
    "u, v = np.copy(u0), np.copy(v0)\n",
    "amax     = 1e-4 # initial value for atol at t=0\n",
    "amin     = 1e-8 # value at tmax\n",
    "tmax     = 0.01 # atol = amax for t > tmax\n",
    "w = 2 / (1 + sin(pi/N))\n",
    "N_loop = 10\n",
    "t = 0.01\n",
    "dt_measure = t / N_loop\n",
    "Nt = int(dt_measure / dt)\n",
    "n_conv_check = int(np.round(8.9e-5/dt))\n",
    "Nt0=1\n",
    "u, v, P = advance_fluid_flow(Nt0, u, v, advance_adv_diff_RK3, dt)[:3]\n",
    "t0 = time.time()\n",
    "# convergence analysis:\n",
    "U=[u]\n",
    "V=[v]\n",
    "Pr=[P]\n",
    "for i in range(N_loop):\n",
    "    \n",
    "    t = i * dt * Nt + dt * Nt0 \n",
    "    atol = get_atol(t, amin, amax, tmax)    \n",
    "    u, v, P = advance_fluid_flow(Nt, u, v, advance_adv_diff_RK3, dt, w=w, atol=atol, P=P, n_conv_check=n_conv_check)[:3]\n",
    "    if i==3000:\n",
    "        plt.imshow(u.T**2+v.T**2)\n",
    "    U .append(u.copy())\n",
    "    V .append(v.copy())\n",
    "    Pr.append(P.copy())\n",
    "print('CPU time [s]: ', time.time() - t0)\n",
    "plt.show()"
   ]
  },
  {
   "cell_type": "code",
   "execution_count": 4,
   "metadata": {},
   "outputs": [
    {
     "name": "stderr",
     "output_type": "stream",
     "text": [
      "C:\\Users\\hp\\AppData\\Local\\Temp\\ipykernel_2508\\3965714672.py:6: VisibleDeprecationWarning: Creating an ndarray from ragged nested sequences (which is a list-or-tuple of lists-or-tuples-or ndarrays with different lengths or shapes) is deprecated. If you meant to do this, you must specify 'dtype=object' when creating the ndarray.\n",
      "  np.save(p, np.array([U,V,P]))\n"
     ]
    },
    {
     "data": {
      "text/plain": [
       "3.331945022907122e-05"
      ]
     },
     "execution_count": 4,
     "metadata": {},
     "output_type": "execute_result"
    }
   ],
   "source": [
    "U=np.array(U)\n",
    "V=np.array(V)\n",
    "Pr=np.array(Pr)\n",
    "if True:\n",
    "    p = Path('data/vel_field/data_cube/') / 'UVP_cube_N_{}_Leap_{}_dt_{}.npy'.format(N,N_loop,dt)\n",
    "    np.save(p, np.array([U,V,P]))\n",
    "if False:\n",
    "    p = Path('data/vel_field/data_cube/') / 'UVP_cube_N_{}_Leap_{}_dt_{}.npy'.format(N,N_loop,dt)\n",
    "    U,V,P=np.load(p)\n",
    "dt"
   ]
  },
  {
   "cell_type": "code",
   "execution_count": 11,
   "metadata": {},
   "outputs": [
    {
     "data": {
      "text/plain": [
       "(3601, 50, 50)"
      ]
     },
     "execution_count": 11,
     "metadata": {},
     "output_type": "execute_result"
    }
   ],
   "source": [
    "from mpl_toolkits.axes_grid1 import make_axes_locatable\n",
    "from matplotlib.animation import FuncAnimation\n",
    "import matplotlib.animation as animation\n",
    "def update(frame):\n",
    "    # ln[1].set_data(V[frame].T**2+U[frame].T**2)\n",
    "    N_leap=2\n",
    "    ln[0].set_UVC(U[frame*N_leap].T, V[frame*N_leap].T)\n",
    "    ln[1].set_array(V[frame*N_leap].T**2+U[frame*N_leap].T**2)\n",
    "    ln[2].set_array(Pr[frame*N_leap].T)\n",
    "    ln3.set_clim(vmin=0,vmax=np.max(Pr[frame*N_leap]))\n",
    "    ln[3].set_text('${:06.3f}ms$'.format(frame*N_leap*dt*10**3))\n",
    "    if frame*N_leap%20==0:  \n",
    "        print(frame*N_leap,frame*N_leap%100) \n",
    "    #  cbar2 = fig.colorbar(ln3, cax=cax)\n",
    "    return ln\n",
    "# Ut=U.copy()\n",
    "# Vt=V.copy()\n",
    "# Pt=Pr.copy()\n",
    "U.shape "
   ]
  },
  {
   "cell_type": "code",
   "execution_count": null,
   "metadata": {},
   "outputs": [],
   "source": [
    "# U = Ut[:int(len(Ut)/10)].copy()\n",
    "# V = Vt[:int(len(Ut)/10)].copy()\n",
    "# Pr = Pt[:int(len(Ut)/10)].copy()\n",
    "print(len(U))\n",
    "fig, (ax,ax2) = plt.subplots(1,2,figsize=(32/4,16/4))\n",
    "fontsize=14\n",
    "ln1  = ax.quiver(U[0].T   ,V[0].T   ,scale=40,zorder=2)\n",
    "ln2  = ax.pcolormesh(U[0].T**2+V[0].T**2,zorder=1,vmin=0,vmax=1.75,cmap='rainbow')\n",
    "ln3  = ax2.pcolormesh(Pr[0].T           ,zorder=1,                 cmap='rainbow')\n",
    "txt = ax.text(25,25,'$0\\\\mu s$',zorder=3,fontsize = fontsize)\n",
    "ax .set_xticklabels(ax .get_xticks()/N)\n",
    "ax .set_yticklabels(ax .get_yticks()/N)\n",
    "ax2.set_xticklabels(ax2.get_xticks()/N)\n",
    "ax2.set_yticklabels(ax2.get_yticks()/N)\n",
    "\n",
    "cbar  = fig.colorbar(ln2,ax=ax )\n",
    "div = make_axes_locatable(ax2)\n",
    "cax = div.append_axes('right', '5%', '5%')\n",
    "cbar2 = fig.colorbar(ln3, cax=cax)\n",
    "\n",
    "\n",
    "ln = [ln1,ln2,ln3,txt]\n",
    "\n",
    "ax .set_title(\"energie and direction evolution \\nof the velocity until stability $s$\",fontsize = fontsize)\n",
    "ax .set_ylabel('y-direction (mm)',fontsize = fontsize)\n",
    "ax .set_xlabel('x-direction (mm)',fontsize = fontsize)\n",
    "ax2.set_title(\"pressure evolution of the velocity\\n until stability $s$\",fontsize = fontsize)\n",
    "ax2.set_ylabel('y-direction (mm)',fontsize = fontsize)\n",
    "ax2.set_xlabel('x-direction (mm)',fontsize = fontsize)\n",
    "plt.rcParams['animation.ffmpeg_path'] = r\"C:\\Users\\hp\\Documents\\ffmpeg-2021-10-18-git-d04c005021-full_build\\bin\\ffmpeg.exe\"\n",
    "writer = animation.writers['ffmpeg']\n",
    "writer = writer(fps=60, metadata=dict(artist='Slimane MZERGUAT'), bitrate=1800)\n",
    "ani = FuncAnimation(fig, update, blit=True, frames=int(len(U)/10),interval=200,repeat=False)#int(len(U)/50)\n",
    "ani.save(\"res.mp4\", writer=writer)\n",
    "plt.show()\n"
   ]
  },
  {
   "cell_type": "code",
   "execution_count": 6,
   "metadata": {},
   "outputs": [
    {
     "name": "stdout",
     "output_type": "stream",
     "text": [
      "(11, 50, 50)\n"
     ]
    },
    {
     "data": {
      "application/vnd.jupyter.widget-view+json": {
       "model_id": "9ec1fecdb4bd427c91e487c8f0673335",
       "version_major": 2,
       "version_minor": 0
      },
      "image/png": "[encoded data removed]",
      "text/html": [
       "\n",
       "            <div style=\"display: inline-block;\">\n",
       "                <div class=\"jupyter-widgets widget-label\" style=\"text-align: center;\">\n",
       "                    Figure\n",
       "                </div>\n",
       "                <img src='data:image/png;base64,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' width=640.0/>\n",
       "            </div>\n",
       "        "
      ],
      "text/plain": [
       "Canvas(toolbar=Toolbar(toolitems=[('Home', 'Reset original view', 'home', 'home'), ('Back', 'Back to previous …"
      ]
     },
     "metadata": {},
     "output_type": "display_data"
    }
   ],
   "source": [
    "i = -1\n",
    "print(U.shape)\n",
    "plt.imshow(U[i].T**2+V[i].T**2)\n",
    "plt.show()"
   ]
  },
  {
   "cell_type": "markdown",
   "metadata": {},
   "source": [
    "# Pre-combustion"
   ]
  },
  {
   "cell_type": "code",
   "execution_count": 63,
   "metadata": {},
   "outputs": [],
   "source": [
    "%matplotlib widget\n",
    "# %matplotlib notebook doesn't work on vscode\n",
    "\n",
    "import matplotlib.pyplot as plt\n",
    "import numpy as np \n",
    "from numba import jit\n",
    "from numpy import sin, pi\n",
    "from pathlib import Path\n",
    "\n",
    "%reload_ext autoreload\n",
    "%aimport Funcs\n",
    "%aimport visualization\n",
    "%aimport species_transport\n",
    "%aimport parameters\n",
    "from parameters import *\n",
    "from fluid_flow import dt_fluid_flow\n",
    "from species_transport import set_BCs, set_Temp_BC, evolve_species\n",
    "N = 50\n",
    "M=N\n",
    "dx, dy, Ns_c, Nc_lw = parameters.set_resolution(N,M)\n",
    "dt = dt_fluid_flow(dx, Fo=0.3)\n",
    "datap = Path('data/vel_field/test0') / 'UVP_N{}.npy'.format(N)\n",
    "u,v,_ = np.load(datap)\n",
    "# initial setup of the species distribution\n",
    "CH4, O2, N2, H2O, CO2, T = np.zeros((6,N,M))\n",
    "O2[:] = .233\n",
    "N2[:] = .767\n",
    "T[:] = 300\n",
    "Y = np.array([CH4, O2, N2, CO2, H2O])"
   ]
  },
  {
   "cell_type": "code",
   "execution_count": 64,
   "metadata": {},
   "outputs": [
    {
     "name": "stdout",
     "output_type": "stream",
     "text": [
      "CPU time [s]:  1.5440003871917725\n"
     ]
    }
   ],
   "source": [
    "Nt0 = 1\n",
    "t = 0.05\n",
    "dt_measure = t / 360\n",
    "Nt = int(dt_measure / dt)\n",
    "N_loop = int(t / dt_measure)\n",
    "Y_cube=[Y]\n",
    "# initial warm-up:\n",
    "Y, T = evolve_species(Nt0, Y, T, dt, u, v, dx, dy, Ns_c, Nc_lw, chem=False, evolve_T=False)\n",
    "t0 = time.time()\n",
    "for i in range(N_loop):\n",
    "    t = i * dt * Nt + dt * Nt0 \n",
    "    Y, T = evolve_species(Nt, Y, T, dt, u, v, dx, dy, Ns_c, Nc_lw, chem=False, evolve_T=False)\n",
    "    Y_cube.append(Y)\n",
    "print('CPU time [s]: ', time.time() - t0)"
   ]
  },
  {
   "cell_type": "code",
   "execution_count": 72,
   "metadata": {},
   "outputs": [
    {
     "name": "stdout",
     "output_type": "stream",
     "text": [
      "5\n"
     ]
    },
    {
     "ename": "AttributeError",
     "evalue": "'list' object has no attribute 'flatten'",
     "output_type": "error",
     "traceback": [
      "\u001b[1;31m---------------------------------------------------------------------------\u001b[0m",
      "\u001b[1;31mAttributeError\u001b[0m                            Traceback (most recent call last)",
      "\u001b[1;32m<ipython-input-72-4706a1227de1>\u001b[0m in \u001b[0;36m<module>\u001b[1;34m\u001b[0m\n\u001b[0;32m      7\u001b[0m \u001b[0maxs\u001b[0m\u001b[1;33m[\u001b[0m\u001b[1;33m-\u001b[0m\u001b[1;36m1\u001b[0m\u001b[1;33m,\u001b[0m\u001b[1;36m0\u001b[0m\u001b[1;33m]\u001b[0m\u001b[1;33m.\u001b[0m\u001b[0mset_ylabel\u001b[0m\u001b[1;33m(\u001b[0m\u001b[1;34m'$y$ [mm]'\u001b[0m\u001b[1;33m)\u001b[0m\u001b[1;33m\u001b[0m\u001b[1;33m\u001b[0m\u001b[0m\n\u001b[0;32m      8\u001b[0m \u001b[0maxs\u001b[0m \u001b[1;33m=\u001b[0m \u001b[1;33m[\u001b[0m\u001b[0maxs\u001b[0m\u001b[1;33m[\u001b[0m\u001b[1;36m0\u001b[0m\u001b[1;33m,\u001b[0m\u001b[1;36m0\u001b[0m\u001b[1;33m]\u001b[0m\u001b[1;33m,\u001b[0m\u001b[0maxs\u001b[0m\u001b[1;33m,\u001b[0m\u001b[1;33m[\u001b[0m\u001b[1;36m0\u001b[0m\u001b[1;33m,\u001b[0m\u001b[1;36m1\u001b[0m\u001b[1;33m]\u001b[0m\u001b[1;33m,\u001b[0m\u001b[0maxs\u001b[0m\u001b[1;33m[\u001b[0m\u001b[1;36m1\u001b[0m\u001b[1;33m,\u001b[0m\u001b[1;36m0\u001b[0m\u001b[1;33m]\u001b[0m\u001b[1;33m,\u001b[0m\u001b[0maxs\u001b[0m\u001b[1;33m[\u001b[0m\u001b[1;36m1\u001b[0m\u001b[1;33m,\u001b[0m\u001b[1;36m1\u001b[0m\u001b[1;33m]\u001b[0m\u001b[1;33m]\u001b[0m\u001b[1;33m\u001b[0m\u001b[1;33m\u001b[0m\u001b[0m\n\u001b[1;32m----> 9\u001b[1;33m \u001b[0maxs\u001b[0m \u001b[1;33m=\u001b[0m \u001b[0maxs\u001b[0m\u001b[1;33m.\u001b[0m\u001b[0mflatten\u001b[0m\u001b[1;33m(\u001b[0m\u001b[1;33m)\u001b[0m\u001b[1;33m\u001b[0m\u001b[1;33m\u001b[0m\u001b[0m\n\u001b[0m\u001b[0;32m     10\u001b[0m \u001b[1;32mfor\u001b[0m \u001b[0mk\u001b[0m \u001b[1;32min\u001b[0m \u001b[0mnp\u001b[0m\u001b[1;33m.\u001b[0m\u001b[0marange\u001b[0m\u001b[1;33m(\u001b[0m\u001b[0mnsp\u001b[0m\u001b[1;33m)\u001b[0m\u001b[1;33m:\u001b[0m\u001b[1;33m\u001b[0m\u001b[1;33m\u001b[0m\u001b[0m\n\u001b[0;32m     11\u001b[0m     \u001b[0mdat\u001b[0m \u001b[1;33m=\u001b[0m \u001b[0mY_cube\u001b[0m\u001b[1;33m[\u001b[0m\u001b[0mi\u001b[0m\u001b[1;33m]\u001b[0m\u001b[1;33m[\u001b[0m\u001b[0mk\u001b[0m\u001b[1;33m]\u001b[0m\u001b[1;33m.\u001b[0m\u001b[0mT\u001b[0m\u001b[1;33m\u001b[0m\u001b[1;33m\u001b[0m\u001b[0m\n",
      "\u001b[1;31mAttributeError\u001b[0m: 'list' object has no attribute 'flatten'"
     ]
    },
    {
     "data": {
      "application/vnd.jupyter.widget-view+json": {
       "model_id": "cb38161379e84b8c8fa5b2e690657908",
       "version_major": 2,
       "version_minor": 0
      },
      "image/png": "[encoded data removed]",
      "text/html": [
       "\n",
       "            <div style=\"display: inline-block;\">\n",
       "                <div class=\"jupyter-widgets widget-label\" style=\"text-align: center;\">\n",
       "                    Figure\n",
       "                </div>\n",
       "                <img src='data:image/png;base64,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' width=600.0/>\n",
       "            </div>\n",
       "        "
      ],
      "text/plain": [
       "Canvas(toolbar=Toolbar(toolitems=[('Home', 'Reset original view', 'home', 'home'), ('Back', 'Back to previous …"
      ]
     },
     "metadata": {},
     "output_type": "display_data"
    }
   ],
   "source": [
    "from species_transport import species_names_2\n",
    "i = 0\n",
    "fig, axs = plt.subplots(2, 2, figsize=(6,4.),sharex=True, sharey=True)\n",
    "nsp = Y_cube[i].shape[0]\n",
    "print(nsp)\n",
    "axs[-1,0].set_xlabel('$x$ [mm]')\n",
    "axs[-1,0].set_ylabel('$y$ [mm]')\n",
    "axs = axs.flatten()\n",
    "for k in np.arange(nsp):\n",
    "    dat = Y_cube[i][k].T\n",
    "    title = 'Y_{' + species_names_2[k] + '}'\n",
    "    title = r'${}$'.format(title)\n",
    "    vmin, vmax=0,1\n",
    "    cmap = 'seismic'\n",
    "\n",
    "    im = axs[k].imshow(dat, cmap=cmap, origin='lower', aspect='auto', vmin=vmin, vmax=vmax, extent=(0,Lx*1e3,0,Ly*1e3))\n",
    "    axs[k].set_title(title)\n",
    "    if k==2:\n",
    "        fig.colorbar(im, ax=axs[k], label='$Y_k$')\n",
    "    elif k==nsp:\n",
    "        fig.colorbar(im, ax=axs[k], label='$T$ [K]')\n",
    "\n",
    "            \n",
    "    #fig.suptitle(r'Mass fractions $Y_k$ of species $k$ / temperature $T$')\n",
    "    plt.tight_layout()\n",
    "\n",
    "\n",
    "\n",
    "\n",
    "\n",
    "\n",
    "\n",
    "\n",
    "\n",
    "\n",
    "\n",
    "\n",
    "\n",
    "\n",
    "\n",
    "\n",
    "\n",
    "\n",
    "\n",
    "\n",
    "# U = Ut[:int(len(Ut)/10)].copy()\n",
    "# V = Vt[:int(len(Ut)/10)].copy()\n",
    "# Pr = Pt[:int(len(Ut)/10)].copy()\n",
    "# print(len(U))\n",
    "# fig, (ax,ax2) = plt.subplots(1,2,figsize=(32,16))\n",
    "# fontsize=14\n",
    "# ln1  = ax.quiver(U[0].T   ,V[0].T   ,scale=40,zorder=2)\n",
    "# ln2  = ax.pcolormesh(U[0].T**2+V[0].T**2,zorder=1,vmin=0,vmax=1.75,cmap='rainbow')\n",
    "# ln3  = ax2.pcolormesh(Pr[0].T           ,zorder=1,                 cmap='rainbow')\n",
    "# txt = ax.text(25,25,'$0\\\\mu s$',zorder=3,fontsize = fontsize)\n",
    "# ax .set_xticklabels(ax .get_xticks()/N)\n",
    "# ax .set_yticklabels(ax .get_yticks()/N)\n",
    "# ax2.set_xticklabels(ax2.get_xticks()/N)\n",
    "# ax2.set_yticklabels(ax2.get_yticks()/N)\n",
    "\n",
    "# cbar  = fig.colorbar(ln2,ax=ax )\n",
    "# div = make_axes_locatable(ax2)\n",
    "# cax = div.append_axes('right', '5%', '5%')\n",
    "# cbar2 = fig.colorbar(ln3, cax=cax)\n",
    "\n",
    "\n",
    "# ln = [ln1,ln2,ln3,txt]\n",
    "\n",
    "# ax .set_title(\"energie and direction evolution \\nof the velocity until stability$ \\\\mu s$\",fontsize = fontsize)\n",
    "# ax .set_ylabel('y-direction (mm)',fontsize = fontsize)\n",
    "# ax .set_xlabel('x-direction (mm)',fontsize = fontsize)\n",
    "# ax2.set_title(\"pressure evolution of the velocity\\n until stability$ \\\\mu s$\",fontsize = fontsize)\n",
    "# ax2.set_ylabel('y-direction (mm)',fontsize = fontsize)\n",
    "# ax2.set_xlabel('x-direction (mm)',fontsize = fontsize)\n",
    "# plt.rcParams['animation.ffmpeg_path'] = r\"C:\\Users\\hp\\Documents\\ffmpeg-2021-10-18-git-d04c005021-full_build\\bin\\ffmpeg.exe\"\n",
    "# writer = animation.writers['ffmpeg']\n",
    "# writer = writer(fps=60, metadata=dict(artist='Slimane MZERGUAT'), bitrate=1800)\n",
    "# ani = FuncAnimation(fig, update, blit=True, frames=int(len(U)/1),interval=200,repeat=False)#int(len(U)/50)\n",
    "# ani.save(\"res.mp4\", writer=writer)\n",
    "# plt.show()\n"
   ]
  },
  {
   "cell_type": "code",
   "execution_count": null,
   "metadata": {},
   "outputs": [],
   "source": []
  }
 ],
 "metadata": {
  "interpreter": {
   "hash": "a12d694c3ccac42055183a0ad11e659c6a2db5c6555ad2c8919d5814fd4e404f"
  },
  "kernelspec": {
   "display_name": "Python 3 (ipykernel)",
   "language": "python",
   "name": "python3"
  },
  "language_info": {
   "codemirror_mode": {
    "name": "ipython",
    "version": 3
   },
   "file_extension": ".py",
   "mimetype": "text/x-python",
   "name": "python",
   "nbconvert_exporter": "python",
   "pygments_lexer": "ipython3",
   "version": "3.9.1"
  }
 },
 "nbformat": 4,
 "nbformat_minor": 4
}
