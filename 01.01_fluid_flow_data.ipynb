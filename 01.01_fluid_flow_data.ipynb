{
 "cells": [
  {
   "cell_type": "code",
   "execution_count": 1,
   "metadata": {
    "tags": []
   },
   "outputs": [],
   "source": [
    "%matplotlib widget\n",
    "import matplotlib.pyplot as plt\n",
    "import numpy as np \n",
    "\n",
    "%reload_ext autoreload\n",
    "%aimport fluid_flow\n",
    "from fluid_flow import produce_final_data, compute_UVP\n",
    "from pathlib import Path"
   ]
  },
  {
   "cell_type": "code",
   "execution_count": 2,
   "metadata": {},
   "outputs": [],
   "source": [
    "compute_UVP(30);"
   ]
  },
  {
   "cell_type": "code",
   "execution_count": 5,
   "metadata": {
    "tags": []
   },
   "outputs": [
    {
     "name": "stdout",
     "output_type": "stream",
     "text": [
      "working on 30\n",
      "working on 50\n",
      "working on 70\n",
      "working on 100\n",
      "working on 130\n",
      "working on 160\n",
      "working on 200\n",
      "working on 250\n"
     ]
    }
   ],
   "source": [
    "#%autoreload 1\n",
    "N_list = np.array([30,50,70,100,130, 160, 200,250])\n",
    "#N_list = np.array([30, 50, 70])\n",
    "\n",
    "if False:\n",
    "    chrono = produce_final_data(N_list)\n",
    "    \n",
    "    from pathlib import Path\n",
    "    p = Path('data/vel_field/test_perfo') / 'UVP_CPU_time_test.npy'\n",
    "    np.save(p, [N_list, chrono])"
   ]
  },
  {
   "cell_type": "code",
   "execution_count": 39,
   "metadata": {},
   "outputs": [],
   "source": [
    "T_tot = []\n",
    "def plot_perfos(ax=None):\n",
    "    \n",
    "    if ax is None:\n",
    "        fig, ax = plt.subplots(figsize=(4,3))\n",
    "    ps = [Path('data/vel_field') / 'UVP_CPU_time{}.npy'.format(s) for s in ['', '_2']]\n",
    "    ps.append(Path('data/vel_field/test_perfo') / 'UVP_CPU_time_test.npy')\n",
    "    for p in ps:\n",
    "        N_list, chrono = np.load(p)\n",
    "        \n",
    "        T_tot.append(chrono.sum())\n",
    "\n",
    "        l, = ax.plot(N_list, chrono, 'o')\n",
    "        ax.set_xscale('log')\n",
    "        ax.set_yscale('log')\n",
    "        from scipy.optimize import curve_fit\n",
    "        def lin(x, a, b): return a*x + b \n",
    "        popt, pcov = curve_fit(lin, np.log(N_list), np.log(chrono))\n",
    "        a,b = popt\n",
    "        yopt = np.exp(b)*(N_list)**a\n",
    "        if False:\n",
    "            ax.text(0.9, 0.2, '$\\delta \\propto N^{' + '{:.2f}'.format(a) + '}$', \n",
    "                    transform=ax.transAxes, horizontalalignment='right', verticalalignment='bottom',\n",
    "                    fontsize='x-large')\n",
    "        s = '$\\propto N^{' + '{:.2f}'.format(a) + '}$'\n",
    "        s += ', {:.0f} min'.format(chrono.sum() / 60)\n",
    "        ax.plot(N_list, yopt, label=s, color=l.get_color())\n",
    "        \n",
    "        #ax.annotate('{:.1f} min'.format(chrono.sum() / 60), (200 , 10)  , horizontalalignment='right', verticalalignment='top',\n",
    "        #       color=l.get_color())\n",
    "    ax.set_xlabel('$N$')\n",
    "    ax.set_ylabel('CPU time [s]')\n",
    "    ax.legend(handlelength=0.5, title='scaling, total time:', loc='upper left')\n",
    "    plt.tight_layout()"
   ]
  },
  {
   "cell_type": "code",
   "execution_count": 40,
   "metadata": {},
   "outputs": [
    {
     "data": {
      "application/vnd.jupyter.widget-view+json": {
       "model_id": "2bf1e10413d742b2885cba6e88ab617a",
       "version_major": 2,
       "version_minor": 0
      },
      "text/html": [
       "\n",
       "            <div style=\"display: inline-block;\">\n",
       "                <div class=\"jupyter-widgets widget-label\" style=\"text-align: center;\">\n",
       "                    Figure\n",
       "                </div>\n",
       "                <img src='data:image/png;base64,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' width=313.38584474885846/>\n",
       "            </div>\n",
       "        "
      ],
      "text/plain": [
       "Canvas(toolbar=Toolbar(toolitems=[('Home', 'Reset original view', 'home', 'home'), ('Back', 'Back to previous …"
      ]
     },
     "metadata": {},
     "output_type": "display_data"
    }
   ],
   "source": [
    "from plotting import set_size\n",
    "plt.style.use('tex.mplstyle')\n",
    "figsize = set_size(fraction=.5, aspect_r=0.4)\n",
    "fig, ax = plt.subplots(figsize=figsize)\n",
    "plot_perfos(ax)"
   ]
  },
  {
   "cell_type": "code",
   "execution_count": 41,
   "metadata": {},
   "outputs": [],
   "source": [
    "fig.savefig('figures/perfo_CPUtime_fluid.svg')"
   ]
  },
  {
   "cell_type": "code",
   "execution_count": null,
   "metadata": {},
   "outputs": [],
   "source": []
  }
 ],
 "metadata": {
  "kernelspec": {
   "display_name": "Python 3",
   "language": "python",
   "name": "python3"
  },
  "language_info": {
   "codemirror_mode": {
    "name": "ipython",
    "version": 3
   },
   "file_extension": ".py",
   "mimetype": "text/x-python",
   "name": "python",
   "nbconvert_exporter": "python",
   "pygments_lexer": "ipython3",
   "version": "3.8.10"
  }
 },
 "nbformat": 4,
 "nbformat_minor": 4
}
