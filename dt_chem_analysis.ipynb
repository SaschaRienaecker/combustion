{
 "cells": [
  {
   "cell_type": "code",
   "execution_count": 1,
   "metadata": {},
   "outputs": [],
   "source": [
    "%matplotlib widget\n",
    "import matplotlib.pyplot as plt\n",
    "import numpy as np \n",
    "from numba import jit\n",
    "from numpy import sin, pi\n",
    "from pathlib import Path\n",
    "\n",
    "%reload_ext autoreload\n",
    "%aimport visualization\n",
    "%aimport species_transport\n",
    "%aimport parameters\n",
    "from parameters import *\n",
    "from fluid_flow import dt_fluid_flow\n",
    "from visualization import plot_species_overview, plot_velocity_vector_field\n",
    "from species_transport import evolve_species"
   ]
  },
  {
   "cell_type": "code",
   "execution_count": 17,
   "metadata": {},
   "outputs": [],
   "source": [
    "NN = np.array([30, 50, 70, 100, 140])\n",
    "\n",
    "# stability thresholds for dt_chem (found by hand for the different N):\n",
    "thr = np.array([0.2, 0.6, 1.1, 1.75, 2.65]) * 2.2857e-7\n",
    "Dt = np.zeros_like(thr)\n",
    "for i, N in enumerate(NN):\n",
    "    dx, dy, Ns_c, Nc_lw = parameters.set_resolution(N,N)\n",
    "    dt = dt_fluid_flow(dx, Fo=0.3)\n",
    "    Dt[i] = dt"
   ]
  },
  {
   "cell_type": "code",
   "execution_count": 20,
   "metadata": {},
   "outputs": [
    {
     "data": {
      "application/vnd.jupyter.widget-view+json": {
       "model_id": "147548970f2844e0a26471c94f2424c2",
       "version_major": 2,
       "version_minor": 0
      },
      "text/html": [
       "\n",
       "            <div style=\"display: inline-block;\">\n",
       "                <div class=\"jupyter-widgets widget-label\" style=\"text-align: center;\">\n",
       "                    Figure\n",
       "                </div>\n",
       "                <img src='data:image/png;base64,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' width=400.0/>\n",
       "            </div>\n",
       "        "
      ],
      "text/plain": [
       "Canvas(toolbar=Toolbar(toolitems=[('Home', 'Reset original view', 'home', 'home'), ('Back', 'Back to previous …"
      ]
     },
     "metadata": {},
     "output_type": "display_data"
    }
   ],
   "source": [
    "fig, ax = plt.subplots(figsize=(4,3))\n",
    "ax.plot(NN, thr, 'bo-')\n",
    "ax.set_xlabel('$N$')\n",
    "ax.set_ylabel('$\\Delta t_{chem} [s]$')\n",
    "plt.tight_layout()"
   ]
  },
  {
   "cell_type": "code",
   "execution_count": null,
   "metadata": {},
   "outputs": [],
   "source": []
  },
  {
   "cell_type": "code",
   "execution_count": null,
   "metadata": {},
   "outputs": [],
   "source": []
  }
 ],
 "metadata": {
  "kernelspec": {
   "display_name": "Python 3",
   "language": "python",
   "name": "python3"
  },
  "language_info": {
   "codemirror_mode": {
    "name": "ipython",
    "version": 3
   },
   "file_extension": ".py",
   "mimetype": "text/x-python",
   "name": "python",
   "nbconvert_exporter": "python",
   "pygments_lexer": "ipython3",
   "version": "3.8.10"
  }
 },
 "nbformat": 4,
 "nbformat_minor": 4
}
