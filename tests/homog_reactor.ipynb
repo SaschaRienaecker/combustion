{
 "cells": [
  {
   "cell_type": "markdown",
   "metadata": {},
   "source": [
    "### Homogeneous (0-dimensional) combustion test.\n",
    "In the following, a little test is done to check whether the intergation of the $Y_k$ and $T$ d\n",
    "differential equations is done correctly. The initial conditions given hereafter should lead (if time step is chosen appropriately) to a rise from $1000$K to $\\sim 3500$K."
   ]
  },
  {
   "cell_type": "code",
   "execution_count": 1,
   "metadata": {},
   "outputs": [],
   "source": [
    "import numpy as np\n",
    "import matplotlib.pyplot as plt\n",
    "import sys\n",
    "sys.path.append('../')\n",
    "from species_transport import integr_chem_0d\n",
    "\n",
    "#Yk = np.zeros((N,M))\n",
    "Y_CH4 = 0.055\n",
    "Y_O2 = 0.233 * (1 - Y_CH4)\n",
    "Y_N2 = 1 - Y_O2 - Y_CH4\n",
    "T = 1000\n",
    "Y_CO2 = 0\n",
    "Y_H2O = 0\n",
    "\n",
    "_Y = np.array([Y_CH4, Y_O2, Y_N2, Y_H2O, Y_CO2])\n",
    "\n",
    "dt = 1e-5\n",
    "Nt_chem = int(1e6)\n",
    "\n",
    "_Y, T_t = integr_chem_0d(_Y, T, dt, Nt_chem)"
   ]
  },
  {
   "cell_type": "code",
   "execution_count": 2,
   "metadata": {},
   "outputs": [
    {
     "name": "stdout",
     "output_type": "stream",
     "text": [
      "3268.112707455815\n"
     ]
    },
    {
     "data": {
      "image/png": "[encoded data removed]",
      "text/plain": [
       "<Figure size 180.51x180.51 with 1 Axes>"
      ]
     },
     "metadata": {
      "needs_background": "light"
     },
     "output_type": "display_data"
    }
   ],
   "source": [
    "\n",
    "from plotting import set_size\n",
    "plt.style.use('../tex.mplstyle')\n",
    "t = np.linspace(0,dt,T_t.size)\n",
    "\n",
    "figsize = set_size(fraction=0.4, aspect_r=0.4)\n",
    "fig, ax = plt.subplots(figsize=figsize)\n",
    "ax.plot(t, T_t)\n",
    "ax.set_xlabel('$t$ [s]')\n",
    "ax.set_ylabel('$T$ [K]')\n",
    "\n",
    "s = r'$T_f = {:.0f}$ K'.format(T_t[-1])\n",
    "ax.text(0.9, 0.5, s, verticalalignment='center', horizontalalignment='right', transform=ax.transAxes)\n",
    "print(T_t[-1])"
   ]
  },
  {
   "cell_type": "code",
   "execution_count": 3,
   "metadata": {},
   "outputs": [],
   "source": [
    "fig.savefig('../figures/0D_reactor.svg')"
   ]
  },
  {
   "cell_type": "code",
   "execution_count": null,
   "metadata": {},
   "outputs": [],
   "source": []
  },
  {
   "cell_type": "code",
   "execution_count": null,
   "metadata": {},
   "outputs": [],
   "source": []
  }
 ],
 "metadata": {
  "kernelspec": {
   "display_name": "Python 3",
   "language": "python",
   "name": "python3"
  },
  "language_info": {
   "codemirror_mode": {
    "name": "ipython",
    "version": 3
   },
   "file_extension": ".py",
   "mimetype": "text/x-python",
   "name": "python",
   "nbconvert_exporter": "python",
   "pygments_lexer": "ipython3",
   "version": "3.8.10"
  }
 },
 "nbformat": 4,
 "nbformat_minor": 4
}
