{
 "cells": [
  {
   "cell_type": "markdown",
   "metadata": {},
   "source": [
    "$$\n",
    "\\phi_{i, j}^{k+1}=\\frac{1}{4}\\left(\\phi_{i-1, j}^{k+1}+\\phi_{i, j-1}^{k+1}+\\phi_{i+1, j}^{k}+\\phi_{i, j+1}^{k}\\right)-\\frac{1}{4} b_{i, j}\n",
    "$$"
   ]
  },
  {
   "cell_type": "markdown",
   "metadata": {},
   "source": [
    "Here, $\\phi$ represents the pressure $P_{i,j}$, and \n",
    "$$\n",
    "b_{i,j} = \\Delta x^2 \\frac{\\rho_0}{\\Delta t} \\left(\\frac{\\partial u^{**}}{\\partial x} +  \\frac{\\partial v^{**}}{\\partial y} \\right)_{i,j}\n",
    "$$"
   ]
  },
  {
   "cell_type": "code",
   "execution_count": 2,
   "metadata": {},
   "outputs": [],
   "source": [
    "import numpy as np\n",
    "import matplotlib.pyplot as plt\n",
    "import sys\n",
    "sys.path.append('../')"
   ]
  },
  {
   "cell_type": "code",
   "execution_count": 3,
   "metadata": {},
   "outputs": [],
   "source": [
    "%reload_ext autoreload\n",
    "%aimport poisson_solver\n",
    "from poisson_solver import SOR_solver"
   ]
  },
  {
   "cell_type": "code",
   "execution_count": 4,
   "metadata": {},
   "outputs": [],
   "source": [
    "%autoreload 1\n",
    "from scipy.constants import epsilon_0\n",
    "rho = 1e-8\n",
    "\n",
    "\"\"\"Mesh parameters\"\"\"\n",
    "N = 100\n",
    "M = 100\n",
    "dx = 1./N\n",
    "dy = 1./M\n",
    "\n",
    "b = - dx**2 * rho / epsilon_0 * np.ones((N,M))"
   ]
  },
  {
   "cell_type": "code",
   "execution_count": 5,
   "metadata": {
    "scrolled": true
   },
   "outputs": [],
   "source": [
    "phi = SOR_solver(b, w=1.5)"
   ]
  },
  {
   "cell_type": "code",
   "execution_count": 6,
   "metadata": {},
   "outputs": [
    {
     "data": {
      "image/png": "[encoded data removed]",
      "text/plain": [
       "<Figure size 432x288 with 2 Axes>"
      ]
     },
     "metadata": {
      "needs_background": "light"
     },
     "output_type": "display_data"
    }
   ],
   "source": [
    "fig, ax = plt.subplots()\n",
    "im = ax.imshow(phi.T, origin='lower', cmap='plasma')\n",
    "cbar = fig.colorbar(im, ax=ax)"
   ]
  },
  {
   "cell_type": "code",
   "execution_count": null,
   "metadata": {},
   "outputs": [],
   "source": []
  }
 ],
 "metadata": {
  "kernelspec": {
   "display_name": "Python 3",
   "language": "python",
   "name": "python3"
  },
  "language_info": {
   "codemirror_mode": {
    "name": "ipython",
    "version": 3
   },
   "file_extension": ".py",
   "mimetype": "text/x-python",
   "name": "python",
   "nbconvert_exporter": "python",
   "pygments_lexer": "ipython3",
   "version": "3.8.10"
  }
 },
 "nbformat": 4,
 "nbformat_minor": 4
}
