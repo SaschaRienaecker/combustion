{
 "cells": [
  {
   "cell_type": "markdown",
   "metadata": {},
   "source": [
    "$$\n",
    "\\phi_{i, j}^{k+1}=\\frac{1}{4}\\left(\\phi_{i-1, j}^{k+1}+\\phi_{i, j-1}^{k+1}+\\phi_{i+1, j}^{k}+\\phi_{i, j+1}^{k}\\right)-\\frac{1}{4} b_{i, j}\n",
    "$$"
   ]
  },
  {
   "cell_type": "markdown",
   "metadata": {},
   "source": [
    "Here, $\\phi$ represents the pressure $P_{i,j}$, and \n",
    "$$\n",
    "b_{i,j} = \\Delta x^2 \\frac{\\rho_0}{\\Delta t} \\left(\\frac{\\partial u^{**}}{\\partial x} +  \\frac{\\partial v^{**}}{\\partial y} \\right)_{i,j}\n",
    "$$"
   ]
  },
  {
   "cell_type": "code",
   "execution_count": 1,
   "metadata": {},
   "outputs": [],
   "source": [
    "%matplotlib widget\n",
    "import numpy as np\n",
    "import matplotlib.pyplot as plt\n",
    "import sys\n",
    "sys.path.append('../')"
   ]
  },
  {
   "cell_type": "code",
   "execution_count": 2,
   "metadata": {},
   "outputs": [],
   "source": [
    "import numpy as np\n",
    "from numba import jit\n",
    "\n",
    "@jit(nopython=True)\n",
    "def test_SOR_solver(b, Pleft, Pright, Pprev=None, w=1, atol=1e-4, maxit=1000000):\n",
    "    \"\"\"\n",
    "    Solve the elliptic pressure equation (formally identical to te Poisson eq.):\n",
    "    ΔP = b (Δ is normalized 2D Laplace operator discretized using centered\n",
    "    finite differences. Note that (dx)² is included in b.\n",
    "    The algorithm usese the SOR method seen in the lectures.\n",
    "    The BCs are chosen such that P=0 at the right boundary and V.Neumann\n",
    "    conditions an all other boundaries.\n",
    "\n",
    "    \"\"\"\n",
    "\n",
    "    N,M = b.shape\n",
    "    is_convergent=True\n",
    "\n",
    "    # if the pressure field at the previous iteration is not too different,\n",
    "    # the algorithm might converge faster\n",
    "    if Pprev is None:\n",
    "        Pact = np.zeros((N,M)) # intial guess\n",
    "    else:\n",
    "        Pact = np.copy(Pprev)\n",
    "\n",
    "    # the convergence condition (maybe another metric is better/more efficient)\n",
    "    def converged(V0, V1):\n",
    "        return np.mean(np.abs(V0-V1)) < atol\n",
    "\n",
    "    def dP_BC(i,j):\n",
    "        \"\"\"\n",
    "        Returns the quantites dP and b taking into account boundary conditions\n",
    "        \"\"\"\n",
    "        _b = 0\n",
    "        dP = 0\n",
    "\n",
    "        # to test the 2D Poisson situation we used these BCs:\n",
    "        if i==N-1:\n",
    "            dP = 4 * Pright\n",
    "        elif i==0:\n",
    "            dP = 4 * Pleft\n",
    "            \n",
    "        # Neumann at other borders:\n",
    "        elif j==0:\n",
    "            dP = 4 * Pact[i,j+1]\n",
    "        elif j==M-1:\n",
    "            dP = 4 * Pact[i,j-1]\n",
    "        else:\n",
    "            dP = Pact[i-1,j] + Pact[i,j-1] + Pact[i+1,j] + Pact[i,j+1]\n",
    "            _b = b[i,j]\n",
    "        return dP, _b\n",
    "\n",
    "    n = 0\n",
    "    while True:\n",
    "        Pold = np.copy(Pact) # needed to check the convergence\n",
    "\n",
    "        \"\"\"arguments: w between 0 and 2\n",
    "        Return x a vector of the same size of a\"\"\"\n",
    "\n",
    "        \"Verifying that the inputs are correct\"\n",
    "        assert w > 0 and w < 2 , \"the argument is not between 0 and 2\"\n",
    "\n",
    "        for i in range(N):\n",
    "            for j in range(M):\n",
    "                dP, _b = dP_BC(i,j)\n",
    "                Pact[i,j] = (1-w) * Pact[i,j] + w * (1/4 * dP - 1/4 * _b)\n",
    "\n",
    "        if converged(Pold, Pact):\n",
    "            break\n",
    "        if n > maxit:\n",
    "            print('did not converge within the maximum number of iterations')\n",
    "            is_convergent = False\n",
    "            break\n",
    "        n += 1\n",
    "    return Pact,is_convergent"
   ]
  },
  {
   "cell_type": "code",
   "execution_count": 3,
   "metadata": {},
   "outputs": [],
   "source": [
    "%reload_ext autoreload"
   ]
  },
  {
   "cell_type": "code",
   "execution_count": 11,
   "metadata": {},
   "outputs": [],
   "source": [
    "%autoreload 1\n",
    "from scipy.constants import epsilon_0\n",
    "\n",
    "\"\"\"Mesh parameters\"\"\"\n",
    "L = 100.\n",
    "N = 200\n",
    "M = 10\n",
    "dx = L/N\n",
    "dy = L/M\n",
    "\n",
    "k = .1\n",
    "X = np.linspace(0, L, N)\n",
    "\n",
    "b = np.cos(k * X)\n",
    "b = np.reshape(b, (N, 1))\n",
    "b = b.repeat(M, axis=1)\n",
    "\n",
    "phi_anal = -1/k**2 * b"
   ]
  },
  {
   "cell_type": "code",
   "execution_count": 12,
   "metadata": {
    "scrolled": true
   },
   "outputs": [],
   "source": [
    "phi, _ = test_SOR_solver(b * dx**2, phi_anal[0,0], phi_anal[-1,0], w=1.5)"
   ]
  },
  {
   "cell_type": "code",
   "execution_count": 16,
   "metadata": {},
   "outputs": [
    {
     "data": {
      "text/plain": [
       "Text(0.5, 1.0, 'analytical')"
      ]
     },
     "execution_count": 16,
     "metadata": {},
     "output_type": "execute_result"
    },
    {
     "data": {
      "application/vnd.jupyter.widget-view+json": {
       "model_id": "dd2472bf34844d008ed897df88552c8a",
       "version_major": 2,
       "version_minor": 0
      },
      "text/html": [
       "\n",
       "            <div style=\"display: inline-block;\">\n",
       "                <div class=\"jupyter-widgets widget-label\" style=\"text-align: center;\">\n",
       "                    Figure\n",
       "                </div>\n",
       "                <img src='data:image/png;base64,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' width=500.0/>\n",
       "            </div>\n",
       "        "
      ],
      "text/plain": [
       "Canvas(toolbar=Toolbar(toolitems=[('Home', 'Reset original view', 'home', 'home'), ('Back', 'Back to previous …"
      ]
     },
     "metadata": {},
     "output_type": "display_data"
    }
   ],
   "source": [
    "fig, [ax, ax2] = plt.subplots(1,2, sharex=True, sharey=True, figsize=(5,2))\n",
    "im = ax.imshow(phi.T, origin='lower', cmap='plasma', aspect='auto')\n",
    "im2 = ax2.imshow(phi_anal.T, origin='lower', cmap='plasma', aspect='auto')\n",
    "cbar = fig.colorbar(im2, ax=ax2)\n",
    "cbar2 = fig.colorbar(im, ax=ax)\n",
    "ax.set_title('Poisson solver')\n",
    "ax2.set_title('analytical')"
   ]
  },
  {
   "cell_type": "code",
   "execution_count": 21,
   "metadata": {},
   "outputs": [
    {
     "data": {
      "application/vnd.jupyter.widget-view+json": {
       "model_id": "f8fc72f45ffb4a6296091722c67e35c0",
       "version_major": 2,
       "version_minor": 0
      },
      "text/html": [
       "\n",
       "            <div style=\"display: inline-block;\">\n",
       "                <div class=\"jupyter-widgets widget-label\" style=\"text-align: center;\">\n",
       "                    Figure\n",
       "                </div>\n",
       "                <img src='data:image/png;base64,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' width=400.0/>\n",
       "            </div>\n",
       "        "
      ],
      "text/plain": [
       "Canvas(toolbar=Toolbar(toolitems=[('Home', 'Reset original view', 'home', 'home'), ('Back', 'Back to previous …"
      ]
     },
     "metadata": {},
     "output_type": "display_data"
    }
   ],
   "source": [
    "fig, ax = plt.subplots(figsize=(4,3))\n",
    "ax.plot(phi[:,0], label='Poisson solver')\n",
    "ax.plot(phi_anal[:,0], label='analytical')\n",
    "ax.legend()\n",
    "ax.set_xlabel('$x$')\n",
    "ax.set_ylabel('$\\phi$')\n",
    "plt.tight_layout()"
   ]
  },
  {
   "cell_type": "code",
   "execution_count": null,
   "metadata": {},
   "outputs": [],
   "source": []
  }
 ],
 "metadata": {
  "kernelspec": {
   "display_name": "Python 3",
   "language": "python",
   "name": "python3"
  },
  "language_info": {
   "codemirror_mode": {
    "name": "ipython",
    "version": 3
   },
   "file_extension": ".py",
   "mimetype": "text/x-python",
   "name": "python",
   "nbconvert_exporter": "python",
   "pygments_lexer": "ipython3",
   "version": "3.8.10"
  }
 },
 "nbformat": 4,
 "nbformat_minor": 4
}
