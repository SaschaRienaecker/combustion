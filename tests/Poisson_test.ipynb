{
 "cells": [
  {
   "cell_type": "markdown",
   "metadata": {},
   "source": [
    "$$\n",
    "\\phi_{i, j}^{k+1}=\\frac{1}{4}\\left(\\phi_{i-1, j}^{k+1}+\\phi_{i, j-1}^{k+1}+\\phi_{i+1, j}^{k}+\\phi_{i, j+1}^{k}\\right)-\\frac{1}{4} b_{i, j}\n",
    "$$"
   ]
  },
  {
   "cell_type": "markdown",
   "metadata": {},
   "source": [
    "Here, $\\phi$ represents the pressure $P_{i,j}$, and \n",
    "$$\n",
    "b_{i,j} = \\Delta x^2 \\frac{\\rho_0}{\\Delta t} \\left(\\frac{\\partial u^{**}}{\\partial x} +  \\frac{\\partial v^{**}}{\\partial y} \\right)_{i,j}\n",
    "$$"
   ]
  },
  {
   "cell_type": "code",
   "execution_count": 1,
   "metadata": {},
   "outputs": [],
   "source": [
    "%matplotlib widget\n",
    "import numpy as np\n",
    "import matplotlib.pyplot as plt\n",
    "import sys\n",
    "sys.path.append('../')"
   ]
  },
  {
   "cell_type": "code",
   "execution_count": 2,
   "metadata": {},
   "outputs": [],
   "source": [
    "import numpy as np\n",
    "from numba import jit\n",
    "\n",
    "@jit(nopython=True)\n",
    "def test_SOR_solver(b, Pleft, Pright, Pprev=None, w=1, atol=1e-4, maxit=1000000):\n",
    "    \"\"\"\n",
    "    Solve the elliptic pressure equation (formally identical to te Poisson eq.):\n",
    "    ΔP = b (Δ is normalized 2D Laplace operator discretized using centered\n",
    "    finite differences. Note that (dx)² is included in b.\n",
    "    The algorithm usese the SOR method seen in the lectures.\n",
    "    The BCs are chosen such that P=0 at the right boundary and V.Neumann\n",
    "    conditions an all other boundaries.\n",
    "\n",
    "    \"\"\"\n",
    "\n",
    "    N,M = b.shape\n",
    "    is_convergent=True\n",
    "\n",
    "    # if the pressure field at the previous iteration is not too different,\n",
    "    # the algorithm might converge faster\n",
    "    if Pprev is None:\n",
    "        Pact = np.zeros((N,M)) # intial guess\n",
    "    else:\n",
    "        Pact = np.copy(Pprev)\n",
    "\n",
    "    # the convergence condition (maybe another metric is better/more efficient)\n",
    "    def converged(V0, V1):\n",
    "        return np.mean(np.abs(V0-V1)) < atol\n",
    "\n",
    "    def dP_BC(i,j):\n",
    "        \"\"\"\n",
    "        Returns the quantites dP and b taking into account boundary conditions\n",
    "        \"\"\"\n",
    "        _b = 0\n",
    "        dP = 0\n",
    "\n",
    "        # to test the 2D Poisson situation we used these BCs:\n",
    "        if i==N-1:\n",
    "            dP = 4 * Pright\n",
    "        elif i==0:\n",
    "            dP = 4 * Pleft\n",
    "            \n",
    "        # Neumann at other borders:\n",
    "        elif j==0:\n",
    "            dP = 4 * Pact[i,j+1]\n",
    "        elif j==M-1:\n",
    "            dP = 4 * Pact[i,j-1]\n",
    "        else:\n",
    "            dP = Pact[i-1,j] + Pact[i,j-1] + Pact[i+1,j] + Pact[i,j+1]\n",
    "            _b = b[i,j]\n",
    "        return dP, _b\n",
    "\n",
    "    n = 0\n",
    "    while True:\n",
    "        Pold = np.copy(Pact) # needed to check the convergence\n",
    "\n",
    "        \"\"\"arguments: w between 0 and 2\n",
    "        Return x a vector of the same size of a\"\"\"\n",
    "\n",
    "        \"Verifying that the inputs are correct\"\n",
    "        assert w > 0 and w < 2 , \"the argument is not between 0 and 2\"\n",
    "\n",
    "        for i in range(N):\n",
    "            for j in range(M):\n",
    "                dP, _b = dP_BC(i,j)\n",
    "                Pact[i,j] = (1-w) * Pact[i,j] + w * (1/4 * dP - 1/4 * _b)\n",
    "\n",
    "        if converged(Pold, Pact):\n",
    "            break\n",
    "        if n > maxit:\n",
    "            print('did not converge within the maximum number of iterations')\n",
    "            is_convergent = False\n",
    "            break\n",
    "        n += 1\n",
    "    return Pact,is_convergent"
   ]
  },
  {
   "cell_type": "code",
   "execution_count": 3,
   "metadata": {},
   "outputs": [],
   "source": [
    "%reload_ext autoreload"
   ]
  },
  {
   "cell_type": "code",
   "execution_count": 36,
   "metadata": {},
   "outputs": [],
   "source": [
    "%autoreload 1\n",
    "from scipy.constants import epsilon_0\n",
    "\n",
    "\"\"\"Mesh parameters\"\"\"\n",
    "L = 100.\n",
    "N = 200\n",
    "M = 100\n",
    "\n",
    "k = .1\n",
    "X, dx = np.linspace(0, L, N, retstep=True)\n",
    "Y, dy = np.linspace(0, L, M, retstep=True)\n",
    "\n",
    "b = np.cos(k * X)\n",
    "b = np.reshape(b, (N, 1))\n",
    "b = b.repeat(M, axis=1)\n",
    "\n",
    "phi_anal = -1/k**2 * b"
   ]
  },
  {
   "cell_type": "code",
   "execution_count": 37,
   "metadata": {
    "scrolled": true
   },
   "outputs": [],
   "source": [
    "phi, _ = test_SOR_solver(b * dx**2, phi_anal[0,0], phi_anal[-1,0], w=1.5)"
   ]
  },
  {
   "cell_type": "code",
   "execution_count": 40,
   "metadata": {},
   "outputs": [
    {
     "data": {
      "application/vnd.jupyter.widget-view+json": {
       "model_id": "60f2ffe20ab74771a540374eca4446cd",
       "version_major": 2,
       "version_minor": 0
      },
      "text/html": [
       "\n",
       "            <div style=\"display: inline-block;\">\n",
       "                <div class=\"jupyter-widgets widget-label\" style=\"text-align: center;\">\n",
       "                    Figure\n",
       "                </div>\n",
       "                <img src='data:image/png;base64,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' width=407.40159817351594/>\n",
       "            </div>\n",
       "        "
      ],
      "text/plain": [
       "Canvas(toolbar=Toolbar(toolitems=[('Home', 'Reset original view', 'home', 'home'), ('Back', 'Back to previous …"
      ]
     },
     "metadata": {},
     "output_type": "display_data"
    }
   ],
   "source": [
    "from plotting import set_size\n",
    "plt.style.use('../tex.mplstyle')\n",
    "figsize = set_size(fraction=0.65, aspect_r=0.3)\n",
    "\n",
    "fig, [ax, ax2] = plt.subplots(1,2, sharex=True, sharey=True, figsize=figsize)\n",
    "im = ax.imshow(phi.T, origin='lower', cmap='plasma', aspect='auto')\n",
    "im2 = ax2.imshow(phi_anal.T, origin='lower', cmap='plasma', aspect='auto')\n",
    "cbar = fig.colorbar(im2, ax=ax2)\n",
    "cbar2 = fig.colorbar(im, ax=ax)\n",
    "ax.set_title('Poisson solver')\n",
    "ax2.set_title('analytical')\n",
    "for a in [ax, ax2]:\n",
    "    a.set_xlabel('$x$')\n",
    "ax.set_ylabel('$y$')\n",
    "plt.tight_layout()"
   ]
  },
  {
   "cell_type": "code",
   "execution_count": 41,
   "metadata": {},
   "outputs": [],
   "source": [
    "#fig.savefig('../figures/poisson_test_image.svg')"
   ]
  },
  {
   "cell_type": "code",
   "execution_count": 43,
   "metadata": {},
   "outputs": [
    {
     "data": {
      "application/vnd.jupyter.widget-view+json": {
       "model_id": "01f85f4803cc48fca967d25208d48b91",
       "version_major": 2,
       "version_minor": 0
      },
      "text/html": [
       "\n",
       "            <div style=\"display: inline-block;\">\n",
       "                <div class=\"jupyter-widgets widget-label\" style=\"text-align: center;\">\n",
       "                    Figure\n",
       "                </div>\n",
       "                <img src='data:image/png;base64,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' width=250.70867579908676/>\n",
       "            </div>\n",
       "        "
      ],
      "text/plain": [
       "Canvas(toolbar=Toolbar(toolitems=[('Home', 'Reset original view', 'home', 'home'), ('Back', 'Back to previous …"
      ]
     },
     "metadata": {},
     "output_type": "display_data"
    }
   ],
   "source": [
    "from plotting import set_size\n",
    "plt.style.use('../tex.mplstyle')\n",
    "figsize = set_size(fraction=0.4, aspect_r=0.35)\n",
    "fig, ax = plt.subplots(figsize=figsize)\n",
    "ax.plot(phi[:,0], label='Poisson solver')\n",
    "ax.plot(phi_anal[:,0], label='analytical', ls='--')\n",
    "ax.legend(handlelength=0.5)\n",
    "ax.set_xlabel('$x$')\n",
    "ax.set_ylabel('$\\phi$')\n",
    "ax.set_title('$\\Delta \\phi = \\cos(k x)$')\n",
    "plt.tight_layout()"
   ]
  },
  {
   "cell_type": "code",
   "execution_count": 44,
   "metadata": {},
   "outputs": [],
   "source": [
    "#fig.savefig('../figures/poisson_test_graph.svg')"
   ]
  },
  {
   "cell_type": "code",
   "execution_count": 18,
   "metadata": {},
   "outputs": [],
   "source": [
    "from Funcs import metric_RMS\n",
    "import time"
   ]
  },
  {
   "cell_type": "code",
   "execution_count": 28,
   "metadata": {},
   "outputs": [],
   "source": [
    "def spatial_scaling(N_list):\n",
    "    \n",
    "    L2 = np.zeros(len(N_list))\n",
    "    Chrono = np.zeros_like(L2)\n",
    "    \n",
    "    for i, N in enumerate(N_list):\n",
    "        \n",
    "        \"\"\"Mesh parameters\"\"\"\n",
    "        L = 100.\n",
    "        N = 200\n",
    "        M = 10\n",
    "\n",
    "        k = .1\n",
    "        X, dx = np.linspace(0, L, N, retstep=True)\n",
    "        Y, dy = np.linspace(0, L, M, retstep=True)\n",
    "\n",
    "        b = np.cos(k * X)\n",
    "        b = np.reshape(b, (N, 1))\n",
    "        b = b.repeat(M, axis=1)\n",
    "\n",
    "        phi_anal = -1/k**2 * b\n",
    "        \n",
    "        phi = np.zeros((N,M))\n",
    "        t0 = time.time()\n",
    "        phi, _ = test_SOR_solver(b * dx**2, phi_anal[0,0], phi_anal[-1,0], w=1.5, atol=1e-7)\n",
    "        Chrono[i] = time.time() - t0\n",
    "        \n",
    "        L2[i] = metric_RMS(phi, phi_anal) / phi_anal.max()\n",
    "    return L2, Chrono\n",
    "        \n",
    "N_list = 30 * np.logspace(0,5,6, base=1.5)      "
   ]
  },
  {
   "cell_type": "code",
   "execution_count": 29,
   "metadata": {},
   "outputs": [],
   "source": [
    "L2, Chrono = spatial_scaling(N_list)"
   ]
  },
  {
   "cell_type": "code",
   "execution_count": 30,
   "metadata": {},
   "outputs": [
    {
     "data": {
      "application/vnd.jupyter.widget-view+json": {
       "model_id": "c13b2068f5e04b0eb62b7d7b89a88214",
       "version_major": 2,
       "version_minor": 0
      },
      "text/html": [
       "\n",
       "            <div style=\"display: inline-block;\">\n",
       "                <div class=\"jupyter-widgets widget-label\" style=\"text-align: center;\">\n",
       "                    Figure\n",
       "                </div>\n",
       "                <img src='data:image/png;base64,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' width=640.0/>\n",
       "            </div>\n",
       "        "
      ],
      "text/plain": [
       "Canvas(toolbar=Toolbar(toolitems=[('Home', 'Reset original view', 'home', 'home'), ('Back', 'Back to previous …"
      ]
     },
     "metadata": {},
     "output_type": "display_data"
    }
   ],
   "source": [
    "fig, ax = plt.subplots()\n",
    "ax.plot(N_list, Chrono)\n",
    "ax.set_yscale('log')\n",
    "ax.set_xscale('log')\n"
   ]
  },
  {
   "cell_type": "code",
   "execution_count": null,
   "metadata": {},
   "outputs": [],
   "source": []
  }
 ],
 "metadata": {
  "kernelspec": {
   "display_name": "Python 3",
   "language": "python",
   "name": "python3"
  },
  "language_info": {
   "codemirror_mode": {
    "name": "ipython",
    "version": 3
   },
   "file_extension": ".py",
   "mimetype": "text/x-python",
   "name": "python",
   "nbconvert_exporter": "python",
   "pygments_lexer": "ipython3",
   "version": "3.8.10"
  }
 },
 "nbformat": 4,
 "nbformat_minor": 4
}
