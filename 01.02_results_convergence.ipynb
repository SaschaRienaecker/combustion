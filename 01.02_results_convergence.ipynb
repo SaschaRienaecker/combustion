{
 "cells": [
  {
   "cell_type": "code",
   "execution_count": 11,
   "metadata": {},
   "outputs": [],
   "source": [
    "%matplotlib widget\n",
    "import matplotlib.pyplot as plt\n",
    "import numpy as np \n",
    "from numba import jit\n",
    "%reload_ext autoreload\n",
    "\n",
    "from Funcs import df1_2\n",
    "import parameters\n",
    "from species_transport import load_Y_T"
   ]
  },
  {
   "cell_type": "markdown",
   "metadata": {},
   "source": [
    "**Maximum strain rate $S$**\n",
    "\n",
    "what is $S =  $max($|\\frac{\\partial v}{\\partial y}|$) ?\n"
   ]
  },
  {
   "cell_type": "code",
   "execution_count": 12,
   "metadata": {},
   "outputs": [],
   "source": [
    "from pathlib import Path\n",
    "p = Path('data/vel_field/test0') / 'UVP_CPU_time_2.npy'\n",
    "N_list, chrono = np.load(p)\n",
    "N_dat = N_list.size\n",
    "N_list = N_list.astype(int)"
   ]
  },
  {
   "cell_type": "code",
   "execution_count": 13,
   "metadata": {},
   "outputs": [],
   "source": [
    "# strain rate placeholder:\n",
    "S = np.zeros(N_dat)\n",
    "\n",
    "for i, N in enumerate(N_list):\n",
    "    dx, dy, Ns_c, Nc_lw = parameters.set_resolution(N,N)\n",
    "    datap = Path('data/vel_field/test0') / 'UVP_N{}.npy'.format(N)\n",
    "    u,v,P = np.load(datap)\n",
    "    s = np.abs(df1_2(v, dy, axis=1))\n",
    "    S[i] = np.max(s[0,:])"
   ]
  },
  {
   "cell_type": "code",
   "execution_count": 37,
   "metadata": {},
   "outputs": [],
   "source": [
    "def plot_strainrate_convergence(ax=None):\n",
    "    \n",
    "    if ax is None:\n",
    "        fig, ax = plt.subplots(figsize=(4,3))\n",
    "\n",
    "    # relative deviation from the best estimate of S (i.e. for the highest N):\n",
    "    devi = (S - S[-1]) / S[-1]\n",
    "    ax.plot(N_list, S, 'bo')\n",
    "    ax2 = ax.twinx()\n",
    "    ax2.plot(N_list, devi * 100, 'bo-')\n",
    "    #ax.set_xscale('log')\n",
    "    #ax.set_yscale('log')\n",
    "    #ax.axhline(0, ls='--')\n",
    "    ax.set_xlabel('$N$')\n",
    "    \n",
    "    l = ax.axhline(S[-1], ls='--', color='red')\n",
    "    ax.text(0.95, 0.5, '$a_{N_{max}} = $' +'${:.1f}$ '.format(S[-1]) + 's$^{-1}$', horizontalalignment='right', \n",
    "            verticalalignment='center', transform=ax.transAxes, color=l.get_color())\n",
    "    ax.set_ylabel('$a$ [s$^{-1}$]')\n",
    "    ax2.set_ylabel('deviation [\\%]')\n",
    "    ax.set_title('$a = \\mathrm{max} |\\partial v/\\partial y|$ at $x=0$')\n",
    "    \"\"\"\n",
    "    ax2.plot(N_list, np.abs(devi))\n",
    "    ax2.set_yscale('log')\n",
    "    ax2.set_xscale('log')\n",
    "    ax2.set_title('|deviation| in log-scale')\n",
    "    ax2.set_xlabel('$N$')\n",
    "    \"\"\"\n",
    "    plt.tight_layout()"
   ]
  },
  {
   "cell_type": "code",
   "execution_count": 38,
   "metadata": {},
   "outputs": [
    {
     "data": {
      "application/vnd.jupyter.widget-view+json": {
       "model_id": "323fc49dc1ea4247803b18d31ec1849f",
       "version_major": 2,
       "version_minor": 0
      },
      "text/html": [
       "\n",
       "            <div style=\"display: inline-block;\">\n",
       "                <div class=\"jupyter-widgets widget-label\" style=\"text-align: center;\">\n",
       "                    Figure\n",
       "                </div>\n",
       "                <img src='data:image/png;base64,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' width=313.38584474885846/>\n",
       "            </div>\n",
       "        "
      ],
      "text/plain": [
       "Canvas(toolbar=Toolbar(toolitems=[('Home', 'Reset original view', 'home', 'home'), ('Back', 'Back to previous …"
      ]
     },
     "metadata": {},
     "output_type": "display_data"
    }
   ],
   "source": [
    "from plotting import set_size\n",
    "plt.style.use('tex.mplstyle')\n",
    "figsize = set_size(fraction=.5, aspect_r=0.4)\n",
    "fig, ax = plt.subplots(figsize=figsize)\n",
    "plot_strainrate_convergence(ax)\n",
    "if False:\n",
    "    fig.savefig('figures/strain_rate.svg')\n",
    "plt.style.use('default')"
   ]
  },
  {
   "cell_type": "markdown",
   "metadata": {
    "tags": []
   },
   "source": [
    "## What is the diffusion zone length?"
   ]
  },
  {
   "cell_type": "code",
   "execution_count": 5,
   "metadata": {},
   "outputs": [],
   "source": [
    "from species_transport import load_Y_T, save_Y_T\n",
    "from parameters import Ly"
   ]
  },
  {
   "cell_type": "code",
   "execution_count": 6,
   "metadata": {},
   "outputs": [],
   "source": [
    "def find_nearest(arr1, arr2):\n",
    "    \"\"\"Finds all indices of 1d array 'arr1' corresponding to the values closest to those of 'arr2'.\"\"\"\n",
    "    @jit(nopython=True)\n",
    "    def _find_nearest(arr1, arr2):\n",
    "        idx = np.zeros(len(arr2))\n",
    "        for i in range(len(idx)):\n",
    "            idx[i] = (np.abs(arr1 - arr2[i])).argmin()\n",
    "        return idx\n",
    "    return np.array(_find_nearest(arr1, arr2), dtype=int)"
   ]
  },
  {
   "cell_type": "code",
   "execution_count": 7,
   "metadata": {},
   "outputs": [],
   "source": [
    "def diffzone_thickness(Y):\n",
    "    \"\"\"\n",
    "    Returns the thickness of the zone at the left wall\n",
    "    between 10% and 90% of Y_N2 at the slot.\n",
    "    \"\"\"\n",
    "    _,N,M = Y.shape\n",
    "    dx, dy, Ns_c, Nc_lw = parameters.set_resolution(N,M)\n",
    "    \n",
    "    N2_lwall = Y[2,0,:]\n",
    "    N2_slot = Y[2,0,0]\n",
    "    print(N2_slot)\n",
    "    \n",
    "    il,ir = find_nearest(N2_lwall, np.array([0.9, 0.1]) * N2_slot)\n",
    "    thickn = abs(il - ir) * dy\n",
    "    return thickn, il,ir"
   ]
  },
  {
   "cell_type": "code",
   "execution_count": 39,
   "metadata": {},
   "outputs": [],
   "source": [
    "def plot_diff_zone(axs=None):\n",
    "    \n",
    "    if axs is None:\n",
    "        fig, [ax, ax2] = plt.subplots(1,2, figsize=(7,3))\n",
    "    else:\n",
    "        ax, ax2 = axs\n",
    "\n",
    "    ax.set_xlabel('$y$ [mm]')\n",
    "\n",
    "    Thickn = np.zeros(N_list.size)\n",
    "\n",
    "    for i,N in enumerate(N_list):\n",
    "        p = Path('data/species/test0') / 'N{}.npy'.format(N)\n",
    "        Y,T = load_Y_T(p)\n",
    "        dx, dy, _,_ = parameters.set_resolution(N,N)\n",
    "        y = np.linspace(0, Ly, N)\n",
    "        N2_lwall = Y[2,0,:]\n",
    "        Thickn[i], il,ir = diffzone_thickness(Y)\n",
    "        if N in [100]:\n",
    "            l, = ax.plot(y * 1e3, N2_lwall, '-', label='$N = {}$'.format(N))\n",
    "            ax.axvline(y[il] * 1e3, color=l.get_color(), ls='--', alpha=0.5)\n",
    "            ax.axvline(y[ir] * 1e3, color=l.get_color(), ls='--', alpha=0.5)\n",
    "\n",
    "\n",
    "    ax.set_ylabel('$Y_{N_2}$')\n",
    "    ax.set_title('Mass fraction of $N_2$\\nat the left wall ($x=0$)')\n",
    "    ax.legend()\n",
    "    ax2.plot(N_list, Thickn * 1e3, 'bo-')\n",
    "    ax2.set_title('thickness $d$\\n$Y_{N_2}/Y_{N_2}^{slot} \\in [0.1, 0.9]$')\n",
    "    ax2.set_ylabel('$d$ [mm]')\n",
    "    ax2.set_xlabel('$N$')\n",
    "    plt.tight_layout()\n",
    "\n",
    "    ax.annotate(\"$d$\", xy=(y[il] * 1e3 - 0.05, 0.4), xytext=(y[ir] * 1e3 + 0.1, 0.4),\n",
    "                arrowprops=dict(arrowstyle=\"<->\"), xycoords='data', horizontalalignment='left', verticalalignment='center')"
   ]
  },
  {
   "cell_type": "code",
   "execution_count": 41,
   "metadata": {},
   "outputs": [
    {
     "name": "stdout",
     "output_type": "stream",
     "text": [
      "0.767\n",
      "0.767\n",
      "0.767\n",
      "0.767\n",
      "0.767\n",
      "0.767\n",
      "0.767\n",
      "0.767\n"
     ]
    },
    {
     "data": {
      "application/vnd.jupyter.widget-view+json": {
       "model_id": "0c7b5835aedb438aacfd76eb0a348b27",
       "version_major": 2,
       "version_minor": 0
      },
      "text/html": [
       "\n",
       "            <div style=\"display: inline-block;\">\n",
       "                <div class=\"jupyter-widgets widget-label\" style=\"text-align: center;\">\n",
       "                    Figure\n",
       "                </div>\n",
       "                <img src='data:image/png;base64,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' width=501.4173515981735/>\n",
       "            </div>\n",
       "        "
      ],
      "text/plain": [
       "Canvas(toolbar=Toolbar(toolitems=[('Home', 'Reset original view', 'home', 'home'), ('Back', 'Back to previous …"
      ]
     },
     "metadata": {},
     "output_type": "display_data"
    }
   ],
   "source": [
    "from plotting import set_size\n",
    "plt.style.use('tex.mplstyle')\n",
    "figsize = set_size(fraction=0.8, aspect_r=0.4)\n",
    "fig, axs = plt.subplots(1,2, figsize=figsize)\n",
    "plot_diff_zone(axs)\n",
    "if False:\n",
    "    fig.savefig('figures/diffusion_zone.svg')\n",
    "plt.style.use('default')"
   ]
  },
  {
   "cell_type": "markdown",
   "metadata": {},
   "source": [
    "## Maximum temperature reached"
   ]
  },
  {
   "cell_type": "code",
   "execution_count": 45,
   "metadata": {},
   "outputs": [],
   "source": [
    "   \n",
    "from pathlib import Path\n",
    "p = Path('data/species_ignited_T/test0') / 'CPU_time.npy'\n",
    "N_list, Chrono = np.load(p)\n",
    "N_dat = N_list.size\n",
    "N_list = N_list.astype(int)"
   ]
  },
  {
   "cell_type": "code",
   "execution_count": 77,
   "metadata": {},
   "outputs": [
    {
     "data": {
      "application/vnd.jupyter.widget-view+json": {
       "model_id": "75933664552a4c458c5186eb7ecf4698",
       "version_major": 2,
       "version_minor": 0
      },
      "text/html": [
       "\n",
       "            <div style=\"display: inline-block;\">\n",
       "                <div class=\"jupyter-widgets widget-label\" style=\"text-align: center;\">\n",
       "                    Figure\n",
       "                </div>\n",
       "                <img src='data:image/png;base64,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' width=400.0/>\n",
       "            </div>\n",
       "        "
      ],
      "text/plain": [
       "Canvas(toolbar=Toolbar(toolitems=[('Home', 'Reset original view', 'home', 'home'), ('Back', 'Back to previous …"
      ]
     },
     "metadata": {},
     "output_type": "display_data"
    }
   ],
   "source": [
    "def plot_maxT_convergence(ax=None):\n",
    "    \n",
    "    if ax is None:\n",
    "        fig, ax = plt.subplots(figsize=(4,3))\n",
    "\n",
    "    Tmax = np.zeros(N_list.size)\n",
    "\n",
    "    for i,N in enumerate(N_list):\n",
    "        p = Path('data/species_ignited_T/test0') / 'N{}.npy'.format(N)\n",
    "        Y,T = load_Y_T(p)\n",
    "        #dx, dy, _,_ = parameters.set_resolution(N,N)\n",
    "        #y = np.linspace(0, Ly, N)\n",
    "        Tmax[i] = T.max()\n",
    "    ax.plot(N_list, Tmax, 'bo-')\n",
    "    ax.set_ylabel('$T_{\\mathrm{max}}$ [K]')\n",
    "    #ax.set_xscale('log')\n",
    "    ax.set_xlabel('mesh size $N$ (per axis)')\n",
    "    \n",
    "    ax.axhline(Tmax[-1], color='red', ls='--', alpha=0.6)\n",
    "    s = r'$T_\\mathrm{max}^{N=250} = ' + '{:.0f}$K'.format(Tmax[-1])\n",
    "    ax.text(0.95, 0.5, s, color='red', horizontalalignment='right', verticalalignment='center', transform=ax.transAxes)\n",
    "    \n",
    "plot_maxT_convergence()"
   ]
  },
  {
   "cell_type": "code",
   "execution_count": 80,
   "metadata": {},
   "outputs": [
    {
     "data": {
      "application/vnd.jupyter.widget-view+json": {
       "model_id": "80b6ad61846f4048ad3b02fa50b893c4",
       "version_major": 2,
       "version_minor": 0
      },
      "text/html": [
       "\n",
       "            <div style=\"display: inline-block;\">\n",
       "                <div class=\"jupyter-widgets widget-label\" style=\"text-align: center;\">\n",
       "                    Figure\n",
       "                </div>\n",
       "                <img src='data:image/png;base64,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' width=219.3700913242009/>\n",
       "            </div>\n",
       "        "
      ],
      "text/plain": [
       "Canvas(toolbar=Toolbar(toolitems=[('Home', 'Reset original view', 'home', 'home'), ('Back', 'Back to previous …"
      ]
     },
     "metadata": {},
     "output_type": "display_data"
    }
   ],
   "source": [
    "if True:\n",
    "    from plotting import set_size\n",
    "    plt.style.use('tex.mplstyle')\n",
    "    figsize = set_size(fraction=0.35, aspect_r=0.3)\n",
    "    \n",
    "    fig, ax = plt.subplots(figsize=figsize)\n",
    "    plot_maxT_convergence(ax)\n",
    "    plt.tight_layout()\n",
    "    fig.savefig('figures/convergence_Tmax.svg')\n",
    "    #plt.style.use('default')"
   ]
  },
  {
   "cell_type": "code",
   "execution_count": null,
   "metadata": {},
   "outputs": [],
   "source": []
  },
  {
   "cell_type": "code",
   "execution_count": null,
   "metadata": {},
   "outputs": [],
   "source": []
  }
 ],
 "metadata": {
  "kernelspec": {
   "display_name": "Python 3",
   "language": "python",
   "name": "python3"
  },
  "language_info": {
   "codemirror_mode": {
    "name": "ipython",
    "version": 3
   },
   "file_extension": ".py",
   "mimetype": "text/x-python",
   "name": "python",
   "nbconvert_exporter": "python",
   "pygments_lexer": "ipython3",
   "version": "3.8.10"
  }
 },
 "nbformat": 4,
 "nbformat_minor": 4
}
