{
 "cells": [
  {
   "cell_type": "code",
   "execution_count": 1,
   "metadata": {},
   "outputs": [],
   "source": [
    "%matplotlib widget\n",
    "import matplotlib.pyplot as plt\n",
    "import numpy as np \n",
    "\n",
    "%reload_ext autoreload\n",
    "%aimport Funcs\n",
    "%aimport parameters\n",
    "%aimport fluid_flow\n",
    "\n",
    "from fluid_flow import dt_fluid_flow\n",
    "from Funcs import advance_adv_diff_RK3, advance_adv_diff_RK4\n",
    "from fluid_flow import advance_fluid_flow, set_boundary"
   ]
  },
  {
   "cell_type": "code",
   "execution_count": 2,
   "metadata": {},
   "outputs": [
    {
     "data": {
      "text/plain": [
       "9.512485136741975e-05"
      ]
     },
     "execution_count": 2,
     "metadata": {},
     "output_type": "execute_result"
    }
   ],
   "source": [
    "dx, dy, Ns_c, Nc_lw = parameters.set_resolution(30,30)\n",
    "dt = dt_fluid_flow(dx, Fo=0.3) \n",
    "dt"
   ]
  },
  {
   "cell_type": "code",
   "execution_count": 3,
   "metadata": {},
   "outputs": [],
   "source": [
    "\n",
    "#dt_safe = dt_fluid_flow(dx, Fo=0.3) \n",
    "#Dt = dt_fluid_flow(dx, Fo=FO) \n",
    "#Dt = dt_safe * np.ones(1)\n",
    "#Dt = np.array([1e-5, 2e-5, 3e-5, 4e-5, 5e-5, 6e-5, 7e-5, 10e-5]) / 4\n",
    "\n",
    "def stability_anal(N, FO):\n",
    "    \n",
    "    dx, dy, Ns_c, Nc_lw = parameters.set_resolution(N,N)\n",
    "    \n",
    "    Dt = dt_fluid_flow(dx, Fo=FO) \n",
    "    Energ = np.zeros((Dt.size)) # placeholder for energy measurement\n",
    "\n",
    "    # loop over given number of iterations \n",
    "    # (note: the first time this line is executed it takes long since numba needs to compile a lot):\n",
    "    for i, dt in enumerate(Dt):\n",
    "        \n",
    "        Nt = int(np.round(5 * 9.5e-5 / dt))\n",
    "\n",
    "        # initial setup of velocity field\n",
    "        u0 = np.zeros((N,N))\n",
    "        v0 = np.copy(u0)\n",
    "        u0,v0 = set_boundary(u0,v0, Nc_lw, Ns_c)\n",
    "\n",
    "        u, v = np.copy(u0), np.copy(v0)\n",
    "        \n",
    "        # actual iteration\n",
    "        u, v, P, is_c,_ = advance_fluid_flow(Nt, u, v, advance_adv_diff_RK4, dt, maxit=2000, atol=1e-2)\n",
    "\n",
    "        Energ[i] = np.mean(u**2 + v**2)\n",
    "        \n",
    "        if is_c == False:\n",
    "            Energ[i:] = Energ[i]\n",
    "            break\n",
    "            \n",
    "    return Dt, Energ\n",
    "    "
   ]
  },
  {
   "cell_type": "code",
   "execution_count": 4,
   "metadata": {},
   "outputs": [
    {
     "data": {
      "text/plain": [
       "array([0.25, 0.3 , 0.35, 0.4 , 0.45])"
      ]
     },
     "execution_count": 4,
     "metadata": {},
     "output_type": "execute_result"
    }
   ],
   "source": [
    "FO = np.linspace(0.25, 0.45, 5)\n",
    "FO"
   ]
  },
  {
   "cell_type": "code",
   "execution_count": 9,
   "metadata": {},
   "outputs": [
    {
     "name": "stdout",
     "output_type": "stream",
     "text": [
      "did not converge within the maximum number of iterations\n"
     ]
    }
   ],
   "source": [
    "FO = np.linspace(0.25, 0.4, 8)\n",
    "N = 100\n",
    "Dt, Energ = stability_anal(N, FO)"
   ]
  },
  {
   "cell_type": "code",
   "execution_count": 10,
   "metadata": {},
   "outputs": [
    {
     "data": {
      "text/plain": [
       "Text(0.5, 0, 'Fourier number Fo')"
      ]
     },
     "execution_count": 10,
     "metadata": {},
     "output_type": "execute_result"
    },
    {
     "data": {
      "application/vnd.jupyter.widget-view+json": {
       "model_id": "8035e754eac4496c8425615a92564f91",
       "version_major": 2,
       "version_minor": 0
      },
      "text/html": [
       "\n",
       "            <div style=\"display: inline-block;\">\n",
       "                <div class=\"jupyter-widgets widget-label\" style=\"text-align: center;\">\n",
       "                    Figure\n",
       "                </div>\n",
       "                <img src='data:image/png;base64,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' width=640.0/>\n",
       "            </div>\n",
       "        "
      ],
      "text/plain": [
       "Canvas(toolbar=Toolbar(toolitems=[('Home', 'Reset original view', 'home', 'home'), ('Back', 'Back to previous …"
      ]
     },
     "metadata": {},
     "output_type": "display_data"
    }
   ],
   "source": [
    "\n",
    "fig, ax = plt.subplots()\n",
    "ax.plot(Dt * 1e6, Energ, 'bo-')\n",
    "ax.set_ylabel('energy density [a.u.]')\n",
    "#ax.set_xscale('log')\n",
    "ax.set_yscale('log')\n",
    "ax.set_xlabel('$\\Delta t$ [µs]')\n",
    "ax2 = ax.twiny()\n",
    "ax2.plot(FO, Energ, 'bo-')\n",
    "ax2.set_xlabel('Fourier number Fo')"
   ]
  },
  {
   "cell_type": "code",
   "execution_count": 11,
   "metadata": {},
   "outputs": [
    {
     "name": "stdout",
     "output_type": "stream",
     "text": [
      "did not converge within the maximum number of iterations\n",
      "did not converge within the maximum number of iterations\n",
      "did not converge within the maximum number of iterations\n",
      "did not converge within the maximum number of iterations\n"
     ]
    }
   ],
   "source": []
  },
  {
   "cell_type": "code",
   "execution_count": 12,
   "metadata": {},
   "outputs": [],
   "source": []
  },
  {
   "cell_type": "code",
   "execution_count": 21,
   "metadata": {},
   "outputs": [
    {
     "name": "stderr",
     "output_type": "stream",
     "text": [
      "<ipython-input-21-4f6796c040f5>:18: MatplotlibDeprecationWarning: shading='flat' when X and Y have the same dimensions as C is deprecated since 3.3.  Either specify the corners of the quadrilaterals with X and Y, or pass shading='auto', 'nearest' or 'gouraud', or set rcParams['pcolor.shading'].  This will become an error two minor releases later.\n",
      "  im = ax.pcolormesh(xx, yy, zz, vmin=0.25, vmax=1)\n"
     ]
    },
    {
     "data": {
      "application/vnd.jupyter.widget-view+json": {
       "model_id": "ffb07d5204dd4374ab78b77f8e6491ba",
       "version_major": 2,
       "version_minor": 0
      },
      "text/html": [
       "\n",
       "            <div style=\"display: inline-block;\">\n",
       "                <div class=\"jupyter-widgets widget-label\" style=\"text-align: center;\">\n",
       "                    Figure\n",
       "                </div>\n",
       "                <img src='data:image/png;base64,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' width=438.7401826484018/>\n",
       "            </div>\n",
       "        "
      ],
      "text/plain": [
       "Canvas(toolbar=Toolbar(toolitems=[('Home', 'Reset original view', 'home', 'home'), ('Back', 'Back to previous …"
      ]
     },
     "metadata": {},
     "output_type": "display_data"
    }
   ],
   "source": [
    "from pathlib import Path\n",
    "from plotting import set_size\n",
    "figsize = set_size(fraction=0.7, aspect_r = 0.3)\n",
    "fig, axs = plt.subplots(1,2,figsize=figsize, sharex=True, sharey=True)\n",
    "plt.style.use('tex.mplstyle')\n",
    "\n",
    "titles = ['RK3', 'RK4']\n",
    "paths = [Path('data/vel_field/stability_anal{}.npy'.format(s)) for s in ['', '_RK4']]\n",
    "for i, p in enumerate(paths):\n",
    "    \n",
    "    ax = axs[i]\n",
    "    N_list,FO,ENERG = np.load(p, allow_pickle=True)\n",
    "\n",
    "    xx, yy = np.meshgrid(N_list, FO)\n",
    "    #xx = np.repeat(N_list.reshape(1, -1), FO.size, axis=0)\n",
    "    #yy = DT.T\n",
    "    zz = ENERG.T\n",
    "    im = ax.pcolormesh(xx, yy, zz, vmin=0.25, vmax=1)\n",
    "    ax.text(0.95, 0.95, 'unstable', transform=ax.transAxes, horizontalalignment='right', verticalalignment='top')\n",
    "    ax.text(0.05, 0.05, 'stable', transform=ax.transAxes, horizontalalignment='left', verticalalignment='bottom', color='white')\n",
    "    \n",
    "    ax.set_xlabel('Mesh size $N$ (per axis)')\n",
    "    ax.axhline(0.3, color='red', ls='--')\n",
    "    if i == 0:\n",
    "        ax.text(100, 0.3, 'threshold', color='white', verticalalignment='bottom')\n",
    "        ax.set_ylabel('Fourier number (Fo)')\n",
    "    if i == 1:\n",
    "        fig.colorbar(im, ax=ax, label='energy [a.u.]')\n",
    "    ax.set_title(titles[i])\n",
    "\n",
    "plt.tight_layout()"
   ]
  },
  {
   "cell_type": "code",
   "execution_count": 22,
   "metadata": {},
   "outputs": [],
   "source": [
    "fig.savefig('figures/stability_anal_RK3_vs_RK4.svg')"
   ]
  },
  {
   "cell_type": "code",
   "execution_count": 14,
   "metadata": {},
   "outputs": [],
   "source": [
    "from pathlib import Path\n",
    "p = Path('data/vel_field/stability_anal_RK4.npy')\n",
    "#np.save(p, np.array([N_list,FO,ENERG], dtype='object'))"
   ]
  },
  {
   "cell_type": "code",
   "execution_count": 43,
   "metadata": {},
   "outputs": [],
   "source": [
    "N_list,FO,ENERG = np.load(p, allow_pickle=True)"
   ]
  },
  {
   "cell_type": "code",
   "execution_count": null,
   "metadata": {},
   "outputs": [],
   "source": [
    "#N_list = np.array([30, 50, 70, 100, 130, 160, 200, 250])\n",
    "N_list = np.array([30, 50, 70, 100, 160, 200])\n",
    "\n",
    "FO = np.linspace(0.25, 0.4, 8)\n",
    "ENERG = np.zeros((N_list.size, FO.size))\n",
    "DT = np.zeros_like(ENERG)\n",
    "for i, N in enumerate(N_list):\n",
    "    Dt, Energ = stability_anal(N, FO)\n",
    "    \n",
    "    ENERG[i] = Energ\n",
    "    DT[i] = Dt    "
   ]
  },
  {
   "cell_type": "code",
   "execution_count": null,
   "metadata": {},
   "outputs": [],
   "source": [
    "ENERG[ENERG > 10] = np.nan"
   ]
  }
 ],
 "metadata": {
  "kernelspec": {
   "display_name": "Python 3",
   "language": "python",
   "name": "python3"
  },
  "language_info": {
   "codemirror_mode": {
    "name": "ipython",
    "version": 3
   },
   "file_extension": ".py",
   "mimetype": "text/x-python",
   "name": "python",
   "nbconvert_exporter": "python",
   "pygments_lexer": "ipython3",
   "version": "3.8.10"
  }
 },
 "nbformat": 4,
 "nbformat_minor": 4
}
