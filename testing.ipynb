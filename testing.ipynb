{
 "cells": [
  {
   "cell_type": "code",
   "execution_count": 7,
   "metadata": {},
   "outputs": [],
   "source": []
  },
  {
   "cell_type": "code",
   "execution_count": 3,
   "metadata": {},
   "outputs": [],
   "source": [
    "\n",
    "import matplotlib.pylab as plt\n",
    "import numpy as np \n",
    "\n"
   ]
  },
  {
   "cell_type": "code",
   "execution_count": 261,
   "metadata": {},
   "outputs": [],
   "source": [
    "import sys\n",
    "try:\n",
    "    del sys.modules['Funcs']\n",
    "except: pass\n",
    "from Funcs import *\n",
    "N       = 50\n",
    "M       = 50\n",
    "Lx      = 0.002\n",
    "Ly      = 0.002\n",
    "Lslot   = 0.0005\n",
    "Lcoflow = 0.0005\n",
    "dt= 10**-6\n",
    "nu =10**-4\n",
    "dx = Lx/N\n",
    "dy = Ly/N\n",
    "Ns_c = int(Lslot          /dx) #N for the point between the slot and te coflow\n",
    "Nc_lw= int((Lslot+Lcoflow)/dx) #N for the point between the coflow and the rest of the wall\n",
    "flow = 1# the speed of the entering fluid\n",
    "\n",
    "# u = np.random.random((N+4,M+4))\n",
    "# v = np.random.random((N+4,M+4))\n",
    "\n",
    "u =np.ones((N,M)) * 0\n",
    "v =np.ones((N,M)) * 0\n",
    "u[int((N+4)*1/4):int((N+4)*3/4),int((M+4)*1/4):int((M+4)*3/4)] = 0\n",
    "v[int((N+4)*1/4):int((N+4)*3/4),int((M+4)*1/4):int((M+4)*3/4)] = 0\n",
    "\n",
    "def set_boundary(u,v,flow_rate = flow):\n",
    "    #vertical barrier\n",
    "    u[0,:] = 0 \n",
    "    v[0,:] = v[1,:]  \n",
    "    #gas in \n",
    "    u[:Nc_lw,0  ] = 0       \n",
    "    u[:Nc_lw,M-1] = 0        \n",
    "    v[:Nc_lw,0  ] =  flow\n",
    "    v[:Nc_lw,M-1] = -flow\n",
    "    #lateral barrier\n",
    "    u[Nc_lw:,0  ] = u[Nc_lw:,1  ]       \n",
    "    v[Nc_lw:,0  ] = 0       \n",
    "    u[Nc_lw:,M-1] = u[Nc_lw:,M-2]\n",
    "    v[Nc_lw:,M-1] = 0                \n",
    "\n",
    "    #outgoing gaz\n",
    "    u[M-1,:] = u[M-2,:]\n",
    "    return u,v  \n",
    "u,v = set_boundary(u,v,flow_rate=flow)\n",
    "\n",
    "ures = [u]\n",
    "vres = [v]\n",
    "for i in range(10000):\n",
    "    res = u_dir(ures[-1],vres[-1],dx,dy,dt,nu)\n",
    "    res[0],res[1]=set_boundary(res[0],res[1],flow_rate=flow)\n",
    "    ures.append(res[0])\n",
    "    vres.append(res[1])\n",
    "\n",
    "ures = np.array(ures)\n",
    "vres = np.array(vres)"
   ]
  },
  {
   "cell_type": "code",
   "execution_count": 264,
   "metadata": {},
   "outputs": [
    {
     "data": {
      "image/png": "[encoded data removed]",
      "text/plain": [
       "<Figure size 1080x360 with 4 Axes>"
      ]
     },
     "metadata": {
      "needs_background": "light"
     },
     "output_type": "display_data"
    }
   ],
   "source": [
    "numplot = -1\n",
    "fig, [ax1,ax2]=plt.subplots(1,2)\n",
    "im1=ax1.imshow(np.abs(vres[1]).T)\n",
    "fig.colorbar(im1, ax=ax1)\n",
    "ax1.set_title(\"at t0\")\n",
    "ax1.set_xlabel(\"x\")\n",
    "ax1.set_ylabel(\"y\")\n",
    "\n",
    "im2=ax2.imshow(np.abs(vres[numplot]).T)\n",
    "fig.colorbar(im2, ax=ax2)\n",
    "ax2.set_title(r\"at t  $\\times$ \"+\"{}\".format(numplot))\n",
    "fig.suptitle('u function over x and y \\n v = 1, nu = {}, dt={} flow_rate={}  '.format(nu,dt,flow))\n",
    "ax2.set_xlabel(\"x\")\n",
    "ax2.set_ylabel(\"y\")\n",
    "fig.set_size_inches(15,5)\n",
    "\n",
    "plt.savefig(\"img_dt={}_nu={}, flow_rate={}.jpg\".format(dt,nu,flow))\n"
   ]
  },
  {
   "cell_type": "code",
   "execution_count": null,
   "metadata": {},
   "outputs": [],
   "source": [
    "import sys\n",
    "try:\n",
    "    del sys.modules['Funcs']\n",
    "except: pass\n",
    "from Funcs import *\n",
    "data_cube = np.abs(ures)\n",
    "i=0\n",
    "fig = plt.figure()\n",
    "im = plt.imshow(data_cube[0], animated=True,cmap=\"jet\")\n",
    "plt.colorbar()\n",
    "def updatefig(*args):\n",
    "    global data_cube,i\n",
    "    i=i+10 if i<len(data_cube)-10 else 0\n",
    "    im.set_array(data_cube[i])\n",
    "    return im,\n",
    "save(data_cube,update_func=updatefig,fig=fig,Dt=1000*dt,dt=dt,file_type=\"avi\")\n"
   ]
  },
  {
   "cell_type": "code",
   "execution_count": 265,
   "metadata": {},
   "outputs": [
    {
     "name": "stdout",
     "output_type": "stream",
     "text": [
      "10001\n",
      "./animation_12.avi\n"
     ]
    }
   ],
   "source": [
    "#quivering\n",
    "import sys\n",
    "try:\n",
    "    del sys.modules['Funcs']\n",
    "except: pass\n",
    "from Funcs import *\n",
    "X= np.zeros(N*M)\n",
    "Y= np.zeros(N*M)\n",
    "U= np.zeros((ures.shape[0],N*M))\n",
    "V= np.zeros((vres.shape[0],N*M))\n",
    "\n",
    "for i in range(N):\n",
    "    for j in range(M):\n",
    "        X[i+j*M] = i\n",
    "        Y[i+j*M] = j\n",
    "        U[:,i+j*M] = ures[:,i,j]\n",
    "        V[:,i+j*M] = vres[:,i,j]\n",
    "\n",
    "data_cube = [X,Y,U,V] \n",
    "print(data_cube[3].shape[0])   \n",
    "i=0\n",
    "fig = plt.figure()\n",
    "im = plt.quiver(data_cube[0],data_cube[1],data_cube[2][0],data_cube[3][0],animated=True,units='inches')\n",
    "def updatefig(i,im, X, Y):\n",
    "    global data_cube\n",
    "    i=i+1 if i<data_cube[3].shape[0] else 0\n",
    "\n",
    "    im.set_UVC(data_cube[2][i],data_cube[3][i])\n",
    "    return im,\n",
    "save(data_cube,update_func=updatefig,fig=fig,Dt=1000*dt,dt=dt,file_type=\"avi\",fargs=(im, X, Y))\n",
    "fig.set_size_inches((15,12))"
   ]
  },
  {
   "cell_type": "code",
   "execution_count": 263,
   "metadata": {},
   "outputs": [],
   "source": [
    "import pickle\n",
    "pickle.dump( np.abs(vres), open( \"ures.p\", \"wb\" ) )"
   ]
  },
  {
   "cell_type": "code",
   "execution_count": null,
   "metadata": {},
   "outputs": [],
   "source": []
  }
 ],
 "metadata": {
  "interpreter": {
   "hash": "a12d694c3ccac42055183a0ad11e659c6a2db5c6555ad2c8919d5814fd4e404f"
  },
  "kernelspec": {
   "display_name": "Python 3.9.1 64-bit",
   "language": "python",
   "name": "python3"
  },
  "language_info": {
   "codemirror_mode": {
    "name": "ipython",
    "version": 3
   },
   "file_extension": ".py",
   "mimetype": "text/x-python",
   "name": "python",
   "nbconvert_exporter": "python",
   "pygments_lexer": "ipython3",
   "version": "3.9.1"
  },
  "orig_nbformat": 4
 },
 "nbformat": 4,
 "nbformat_minor": 2
}
