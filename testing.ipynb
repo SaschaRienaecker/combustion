{
 "cells": [
  {
   "cell_type": "code",
   "execution_count": 65,
   "metadata": {},
   "outputs": [],
   "source": [
    "import sys\n",
    "try:\n",
    "    del sys.modules['Funcs']\n",
    "except: pass\n",
    "from Funcs import *"
   ]
  },
  {
   "cell_type": "code",
   "execution_count": 66,
   "metadata": {},
   "outputs": [],
   "source": [
    "\n",
    "N       = 100\n",
    "M       = 100\n",
    "Lx      = 0.002\n",
    "Ly      = 0.002\n",
    "Lslot   = 0.0005\n",
    "Lcoflow = 0.0005\n",
    "dt= 10**-4\n",
    "nu =10**-3\n",
    "dx = Lx/N\n",
    "dy = Ly/N\n",
    "Ns_c = int(Lslot          /dx) #N for the point between the slot and te coflow\n",
    "Nc_lw= int((Lslot+Lcoflow)/dx) #N for the point between the coflow and lateral wall\n",
    "\n",
    "\n"
   ]
  },
  {
   "cell_type": "code",
   "execution_count": 67,
   "metadata": {},
   "outputs": [
    {
     "name": "stderr",
     "output_type": "stream",
     "text": [
      "c:\\Users\\hp\\Documents\\paris saclay\\M2\\Numerical analysis\\Workshop\\Final Work\\together\\combustion\\Funcs.py:14: RuntimeWarning: overflow encountered in multiply\n",
      "  -   np.roll(data, 2, axis=axis))/(12*dh)\n",
      "c:\\Users\\hp\\Documents\\paris saclay\\M2\\Numerical analysis\\Workshop\\Final Work\\together\\combustion\\Funcs.py:20: RuntimeWarning: overflow encountered in multiply\n",
      "  \n",
      "c:\\Users\\hp\\Documents\\paris saclay\\M2\\Numerical analysis\\Workshop\\Final Work\\together\\combustion\\Funcs.py:14: RuntimeWarning: invalid value encountered in add\n",
      "  -   np.roll(data, 2, axis=axis))/(12*dh)\n",
      "c:\\Users\\hp\\Documents\\paris saclay\\M2\\Numerical analysis\\Workshop\\Final Work\\together\\combustion\\Funcs.py:20: RuntimeWarning: invalid value encountered in add\n",
      "  \n",
      "c:\\Users\\hp\\Documents\\paris saclay\\M2\\Numerical analysis\\Workshop\\Final Work\\together\\combustion\\Funcs.py:50: RuntimeWarning: invalid value encountered in subtract\n",
      "  def means(data_cube):\n",
      "c:\\Users\\hp\\Documents\\paris saclay\\M2\\Numerical analysis\\Workshop\\Final Work\\together\\combustion\\Funcs.py:50: RuntimeWarning: overflow encountered in true_divide\n",
      "  def means(data_cube):\n",
      "c:\\Users\\hp\\Documents\\paris saclay\\M2\\Numerical analysis\\Workshop\\Final Work\\together\\combustion\\Funcs.py:78: RuntimeWarning: overflow encountered in multiply\n",
      "  #ani.save(f, writer=writergif)\n",
      "c:\\Users\\hp\\Documents\\paris saclay\\M2\\Numerical analysis\\Workshop\\Final Work\\together\\combustion\\Funcs.py:77: RuntimeWarning: invalid value encountered in add\n",
      "  ani = animation.FuncAnimation(fig, update_func, interval=0.1, blit=True, frames=len(data_cube))#len(data_cube)-1)\n",
      "c:\\Users\\hp\\Documents\\paris saclay\\M2\\Numerical analysis\\Workshop\\Final Work\\together\\combustion\\Funcs.py:14: RuntimeWarning: invalid value encountered in multiply\n",
      "  -   np.roll(data, 2, axis=axis))/(12*dh)\n",
      "c:\\Users\\hp\\Documents\\paris saclay\\M2\\Numerical analysis\\Workshop\\Final Work\\together\\combustion\\Funcs.py:20: RuntimeWarning: invalid value encountered in multiply\n",
      "  \n",
      "c:\\Users\\hp\\Documents\\paris saclay\\M2\\Numerical analysis\\Workshop\\Final Work\\together\\combustion\\Funcs.py:14: RuntimeWarning: overflow encountered in add\n",
      "  -   np.roll(data, 2, axis=axis))/(12*dh)\n",
      "c:\\Users\\hp\\Documents\\paris saclay\\M2\\Numerical analysis\\Workshop\\Final Work\\together\\combustion\\Funcs.py:20: RuntimeWarning: overflow encountered in add\n",
      "  \n",
      "c:\\Users\\hp\\Documents\\paris saclay\\M2\\Numerical analysis\\Workshop\\Final Work\\together\\combustion\\Funcs.py:59: RuntimeWarning: overflow encountered in true_divide\n",
      "  def save(data_cube,update_func,fig,Dt,dt,file_type='avi'):\n",
      "c:\\Users\\hp\\Documents\\paris saclay\\M2\\Numerical analysis\\Workshop\\Final Work\\together\\combustion\\Funcs.py:27: RuntimeWarning: overflow encountered in add\n",
      "  k2 = func(tn+dh/2,yn+dh*k1/2,**kwargs)\n",
      "c:\\Users\\hp\\Documents\\paris saclay\\M2\\Numerical analysis\\Workshop\\Final Work\\together\\combustion\\Funcs.py:75: RuntimeWarning: invalid value encountered in add\n",
      "  writer = writer(fps=60, metadata=dict(artist='Slimane MZERGUAT'), bitrate=1800)\n",
      "c:\\Users\\hp\\Documents\\paris saclay\\M2\\Numerical analysis\\Workshop\\Final Work\\together\\combustion\\Funcs.py:76: RuntimeWarning: invalid value encountered in subtract\n",
      "  \n",
      "c:\\Users\\hp\\Documents\\paris saclay\\M2\\Numerical analysis\\Workshop\\Final Work\\together\\combustion\\Funcs.py:59: RuntimeWarning: invalid value encountered in subtract\n",
      "  def save(data_cube,update_func,fig,Dt,dt,file_type='avi'):\n",
      "c:\\Users\\hp\\Documents\\paris saclay\\M2\\Numerical analysis\\Workshop\\Final Work\\together\\combustion\\Funcs.py:59: RuntimeWarning: invalid value encountered in add\n",
      "  def save(data_cube,update_func,fig,Dt,dt,file_type='avi'):\n"
     ]
    }
   ],
   "source": [
    "\n",
    "# u = np.random.random((N+4,M+4))\n",
    "# v = np.random.random((N+4,M+4))\n",
    "u =np.zeros((N+4,M+4))\n",
    "v =np.zeros((N+4,M+4))\n",
    "u[int((N+4)*1/4):int((N+4)*3/4),int((M+4)*1/4):int((M+4)*3/4)] = 1\n",
    "v[int((N+4)*1/4):int((N+4)*3/4),int((M+4)*1/4):int((M+4)*3/4)] = 1\n",
    "\n",
    "# #vertical barrier\n",
    "# u[0,:] = 0             ; u[1,:] = 0\n",
    "# v[1,:] = v[2,:]        ; v[0,:] = 0 \n",
    "# #gas in \n",
    "# u[:Nc_lw,0] = 0        ; u[:Nc_lw,1  ] = 0\n",
    "# u[:Nc_lw,N] = 0        ; u[:Nc_lw,N-1] = 0\n",
    "# v[:Nc_lw,0] = 1        ; v[:Nc_lw,1  ] = 1\n",
    "# v[:Nc_lw,N] = -1       ; v[:Nc_lw,N-1] = -1\n",
    "# #lateral barrier\n",
    "# u[Nc_lw:,1] = u[Nc_lw:,2]       ; u[Nc_lw:,0] = 0\n",
    "# v[Nc_lw:,0] = 0                 ; v[Nc_lw:,1] = 0\n",
    "# u[Nc_lw:,N-1] = u[Nc_lw:,N-2]   ; u[Nc_lw:,N] = 0\n",
    "# v[Nc_lw:,N] = 0                 ; v[Nc_lw:,N-1] = 0 \n",
    "\n",
    "# #outgoing gaz\n",
    "# u[N,:] = 1 ; u[N-1,:] = 1  \n",
    "\n",
    "ures = [u]\n",
    "vres = [v]\n",
    "for i in range(1000):\n",
    "    res = u_st2(ures[-1],vres[-1],dx,dy,dt,nu)\n",
    "    ures.append(res[0])\n",
    "    vres.append(res[1])\n",
    "\n",
    "ures = np.array(ures)\n",
    "vres = np.array(vres)"
   ]
  },
  {
   "cell_type": "code",
   "execution_count": null,
   "metadata": {},
   "outputs": [],
   "source": [
    "Dt=1\n",
    "print(ures.shape)\n",
    "data_cube = ures\n",
    "if True: #representation \n",
    "    i=0\n",
    "    fig = plt.figure()\n",
    "    im = plt.imshow(data_cube[0], animated=True,cmap=\"jet\")\n",
    "    plt.colorbar()\n",
    "    def updatefig (*args):\n",
    "        global data_cube,i\n",
    "        i=i+1 if i<len(data_cube)-1 else 0\n",
    "        im.set_array(data_cube[i])\n",
    "        return im,\n",
    "    save(data_cube,update_func=updatefig,fig=fig,Dt=Dt,dt=dt,file_type=\"avi\")"
   ]
  },
  {
   "cell_type": "code",
   "execution_count": 53,
   "metadata": {},
   "outputs": [
    {
     "name": "stdout",
     "output_type": "stream",
     "text": [
      "-0.5507266995952165\n",
      "-0.9999949269133752\n"
     ]
    },
    {
     "data": {
      "image/png": "[encoded data removed]",
      "text/plain": [
       "<Figure size 432x288 with 1 Axes>"
      ]
     },
     "metadata": {
      "needs_background": "light"
     },
     "output_type": "display_data"
    }
   ],
   "source": [
    "y_calc = -np.cos(np.arange(0,2*np.pi,step=0.01))\n",
    "y_meas = df2_2(-y_calc,0.01)\n",
    "plt.plot(y_calc)\n",
    "plt.plot(y_meas)\n",
    "print(y_meas[0])\n",
    "print(y_calc[-1])"
   ]
  },
  {
   "cell_type": "code",
   "execution_count": 64,
   "metadata": {},
   "outputs": [
    {
     "ename": "NameError",
     "evalue": "name 'Callable' is not defined",
     "output_type": "error",
     "traceback": [
      "\u001b[1;31m---------------------------------------------------------------------------\u001b[0m",
      "\u001b[1;31mNameError\u001b[0m                                 Traceback (most recent call last)",
      "\u001b[1;32m<ipython-input-64-4c49941c9a15>\u001b[0m in \u001b[0;36m<module>\u001b[1;34m\u001b[0m\n\u001b[1;32m----> 1\u001b[1;33m \u001b[1;32mdef\u001b[0m \u001b[0mf\u001b[0m\u001b[1;33m(\u001b[0m\u001b[0mx\u001b[0m\u001b[1;33m:\u001b[0m\u001b[0mCallable\u001b[0m\u001b[1;33m)\u001b[0m\u001b[1;33m:\u001b[0m\u001b[1;33m\u001b[0m\u001b[1;33m\u001b[0m\u001b[0m\n\u001b[0m\u001b[0;32m      2\u001b[0m     \u001b[1;32mpass\u001b[0m\u001b[1;33m\u001b[0m\u001b[1;33m\u001b[0m\u001b[0m\n",
      "\u001b[1;31mNameError\u001b[0m: name 'Callable' is not defined"
     ]
    }
   ],
   "source": [
    "def f(x:Callable):\n",
    "    pass\n"
   ]
  },
  {
   "cell_type": "code",
   "execution_count": null,
   "metadata": {},
   "outputs": [],
   "source": []
  },
  {
   "cell_type": "code",
   "execution_count": null,
   "metadata": {},
   "outputs": [],
   "source": []
  }
 ],
 "metadata": {
  "interpreter": {
   "hash": "a12d694c3ccac42055183a0ad11e659c6a2db5c6555ad2c8919d5814fd4e404f"
  },
  "kernelspec": {
   "display_name": "Python 3.9.1 64-bit",
   "language": "python",
   "name": "python3"
  },
  "language_info": {
   "codemirror_mode": {
    "name": "ipython",
    "version": 3
   },
   "file_extension": ".py",
   "mimetype": "text/x-python",
   "name": "python",
   "nbconvert_exporter": "python",
   "pygments_lexer": "ipython3",
   "version": "3.9.1"
  },
  "orig_nbformat": 4
 },
 "nbformat": 4,
 "nbformat_minor": 2
}
