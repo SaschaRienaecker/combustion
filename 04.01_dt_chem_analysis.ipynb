{
 "cells": [
  {
   "cell_type": "code",
   "execution_count": 1,
   "metadata": {},
   "outputs": [],
   "source": [
    "%matplotlib widget\n",
    "import matplotlib.pyplot as plt\n",
    "import numpy as np \n",
    "from numba import jit\n",
    "from numpy import sin, pi\n",
    "from pathlib import Path\n",
    "\n",
    "%reload_ext autoreload\n",
    "%aimport visualization\n",
    "%aimport species_transport\n",
    "%aimport parameters\n",
    "from parameters import *\n",
    "from fluid_flow import dt_fluid_flow\n",
    "from visualization import plot_species_overview, plot_velocity_vector_field\n",
    "from species_transport import evolve_species"
   ]
  },
  {
   "cell_type": "code",
   "execution_count": 2,
   "metadata": {},
   "outputs": [],
   "source": [
    "NN = np.array([30, 50, 70, 100, 140])\n",
    "\n",
    "# stability thresholds for dt_chem (found by hand for the different N):\n",
    "thr = np.array([0.2, 0.6, 1.1, 1.75, 2.65]) * 2.2857e-7\n",
    "Dt = np.zeros_like(thr)\n",
    "for i, N in enumerate(NN):\n",
    "    dx, dy, Ns_c, Nc_lw = parameters.set_resolution(N,N)\n",
    "    dt = dt_fluid_flow(dx, Fo=0.3 * 0.9)\n",
    "    Dt[i] = dt"
   ]
  },
  {
   "cell_type": "code",
   "execution_count": 3,
   "metadata": {},
   "outputs": [
    {
     "data": {
      "application/vnd.jupyter.widget-view+json": {
       "model_id": "419e8cc1f45242c19ecd71b81900c46e",
       "version_major": 2,
       "version_minor": 0
      },
      "text/html": [
       "\n",
       "            <div style=\"display: inline-block;\">\n",
       "                <div class=\"jupyter-widgets widget-label\" style=\"text-align: center;\">\n",
       "                    Figure\n",
       "                </div>\n",
       "                <img src='data:image/png;base64,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' width=400.0/>\n",
       "            </div>\n",
       "        "
      ],
      "text/plain": [
       "Canvas(toolbar=Toolbar(toolitems=[('Home', 'Reset original view', 'home', 'home'), ('Back', 'Back to previous …"
      ]
     },
     "metadata": {},
     "output_type": "display_data"
    }
   ],
   "source": [
    "fig, ax = plt.subplots(figsize=(4,3))\n",
    "ax.plot(NN, thr, 'bo')\n",
    "ax.set_xlabel('$N$')\n",
    "ax.set_ylabel('$\\Delta t_{chem} [s]$')\n",
    "\n",
    "\n",
    "# lin. fit\n",
    "from scipy.optimize import curve_fit\n",
    "def lin(x, a, b): return a*x + b \n",
    "popt, pcov = curve_fit(lin, NN, thr)\n",
    "a,b = popt\n",
    "yopt = lin(NN, *popt)\n",
    "s = '$y = {:.4g} \\, x + {:.4g}$'.format(b,a)\n",
    "ax.plot(NN, yopt, label=s)\n",
    "ax.legend()\n",
    "\n",
    "plt.tight_layout()"
   ]
  },
  {
   "cell_type": "markdown",
   "metadata": {},
   "source": [
    "**Note** The above linear stability threshold does not hold for $N\\ge 160$ anymore. It is probably due to the fact that `dt_chem` needs to be appreciably smaller than `dt` (in fact, it turns out that `dt_chem`$\\lesssim$`dt`/6, i.e. one must have at least ~6 chemistry iterations per simulation step."
   ]
  },
  {
   "cell_type": "code",
   "execution_count": null,
   "metadata": {},
   "outputs": [],
   "source": []
  }
 ],
 "metadata": {
  "kernelspec": {
   "display_name": "Python 3",
   "language": "python",
   "name": "python3"
  },
  "language_info": {
   "codemirror_mode": {
    "name": "ipython",
    "version": 3
   },
   "file_extension": ".py",
   "mimetype": "text/x-python",
   "name": "python",
   "nbconvert_exporter": "python",
   "pygments_lexer": "ipython3",
   "version": "3.8.10"
  }
 },
 "nbformat": 4,
 "nbformat_minor": 4
}
